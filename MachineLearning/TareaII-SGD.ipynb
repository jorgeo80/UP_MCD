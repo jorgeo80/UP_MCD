{
 "cells": [
  {
   "cell_type": "markdown",
   "metadata": {},
   "source": [
    "###### [Home](https://github.com/jorgeo80/UP_MCD/blob/master/MachineLearning/Directorio.md)\n",
    "# Descenso de Gradiente Estocástico (SGD) \n",
    "&emsp;&emsp;$\\theta = \\theta - \\eta * \\nabla \\theta J( \\theta; x(i); y(i))$"
   ]
  },
  {
   "cell_type": "markdown",
   "metadata": {},
   "source": [
    "## (1) Generamos la función SDG"
   ]
  },
  {
   "cell_type": "code",
   "execution_count": 144,
   "metadata": {},
   "outputs": [],
   "source": [
    "import numpy as np\n",
    "import matplotlib.pyplot as plt\n",
    "\n",
    "def sgd(X, y, eta = 0.01 ,n_iter = 100):\n",
    "    '''\n",
    "        función para calcular el Descenso de Gradiente Estocástico\n",
    "        X = Matriz de X's\n",
    "        y = Vector de y's\n",
    "        eta = Tasa de Aprendizaje\n",
    "        n_iter = Numero de Iteraciones        \n",
    "    '''\n",
    "    # Inicializa los parámetros theta\n",
    "    theta = np.random.rand(X.shape[1])\n",
    "    m = len(y)\n",
    "    cost_hist = []    \n",
    "    theta_hist = []\n",
    "    for it in range(n_iter):\n",
    "        cost = 0.0\n",
    "        for i in range(m):\n",
    "            rand_ind = np.random.randint(0, m)\n",
    "            X_i = X[rand_ind, :].reshape(1, X.shape[1])\n",
    "            y_i = y[rand_ind].reshape(1, 1)\n",
    "            # thetha_j = thetha_j - eta * (sum(theta * X_i) - y_i) * X_i        \n",
    "            theta = theta -eta * np.dot(X_i.T, (np.dot(X_i, theta) - y_i))\n",
    "            # cost_j = (1/2) * sum(theta * X_i)²\n",
    "            cost += (1 / 2) * (np.dot(X_i, theta) - y_i) ** 2\n",
    "        cost_hist.append(float(np.asarray(cost))) \n",
    "        theta_hist.append(float(np.asarray(theta)))\n",
    "    return {'theta': float(np.asarray(theta)), \n",
    "            'costHistory': cost_hist, \n",
    "            'thetaHistory': theta_hist}"
   ]
  },
  {
   "cell_type": "markdown",
   "metadata": {},
   "source": [
    "## (2) Creamos datos dummy y los graficamos"
   ]
  },
  {
   "cell_type": "code",
   "execution_count": 148,
   "metadata": {},
   "outputs": [
    {
     "data": {
      "text/plain": [
       "<matplotlib.collections.PathCollection at 0x7f88ad364e10>"
      ]
     },
     "execution_count": 148,
     "metadata": {},
     "output_type": "execute_result"
    },
    {
     "data": {
      "image/png": "[encoded data removed]",
      "text/plain": [
       "<Figure size 432x288 with 1 Axes>"
      ]
     },
     "metadata": {
      "needs_background": "light"
     },
     "output_type": "display_data"
    }
   ],
   "source": [
    "X = np.array([0.5, 0.15, 0.30, 0.25, 0.35, 0.45, 0.47, 0.55]).reshape((-1, 1))\n",
    "y = np.array([5, 20, 18, 14, 32, 22, 32, 38])\n",
    "\n",
    "plt.scatter(x,y)"
   ]
  },
  {
   "cell_type": "code",
   "execution_count": 149,
   "metadata": {},
   "outputs": [
    {
     "data": {
      "text/plain": [
       "40.015006903542"
      ]
     },
     "execution_count": 149,
     "metadata": {},
     "output_type": "execute_result"
    }
   ],
   "source": [
    "sgd(X, y, eta = 0.01 ,n_iter = 100)['theta']"
   ]
  },
  {
   "cell_type": "markdown",
   "metadata": {},
   "source": [
    "### Funtes consultadas:\n",
    "* [Stochastic Gradient Descent](https://ruder.io/optimizing-gradient-descent/index.html#stochasticgradientdescent)\n",
    "* [Gradient Descent in Python](https://towardsdatascience.com/gradient-descent-in-python-a0d07285742f)\n",
    "* [Conceptos Fundamentales en ML](https://planetachatbot.com/conceptos-fundamentales-en-machine-learning-funci%C3%B3n-de-perdida-y-optimizaci%C3%B3n-e30c25404622)"
   ]
  }
 ],
 "metadata": {
  "kernelspec": {
   "display_name": "Python 3",
   "language": "python",
   "name": "python3"
  },
  "language_info": {
   "codemirror_mode": {
    "name": "ipython",
    "version": 3
   },
   "file_extension": ".py",
   "mimetype": "text/x-python",
   "name": "python",
   "nbconvert_exporter": "python",
   "pygments_lexer": "ipython3",
   "version": "3.7.4"
  }
 },
 "nbformat": 4,
 "nbformat_minor": 2
}
