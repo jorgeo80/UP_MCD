{
 "cells": [
  {
   "cell_type": "markdown",
   "metadata": {},
   "source": [
    "###### [Home](https://github.com/jorgeo80/UP_MCD/blob/master/MachineLearning/Directorio.md)\n",
    "# Descenso de Gradiente Estocástico (SGD) \n",
    "&emsp;&emsp;$\\theta = \\theta - \\eta * \\nabla \\theta J( \\theta; x(i); y(i))$"
   ]
  },
  {
   "cell_type": "markdown",
   "metadata": {},
   "source": [
    "## (0) Importamos las librerias y preparamos las funciones básicas"
   ]
  },
  {
   "cell_type": "code",
   "execution_count": 2,
   "metadata": {},
   "outputs": [],
   "source": [
    "def regresion_lineal(x,b):\n",
    "    return np.array(b[0] + b[1]*x).reshape(1,-1)\n",
    "\n",
    "# Definir la función de error cuadrático medio\n",
    "def error_cuadratico(y, y_pred):\n",
    "    return np.mean((y - y_pred) ** 2)   \n",
    "\n",
    "# Definir la función de gradiente del error\n",
    "def grad_error(y, y_pred, x):\n",
    "    return np.array([-2 * np.mean((y - y_pred)), -2 * np.mean((y - y_pred) * x)])"
   ]
  },
  {
   "cell_type": "markdown",
   "metadata": {},
   "source": [
    "## (1) Generamos la función SDG"
   ]
  },
  {
   "cell_type": "code",
   "execution_count": 3,
   "metadata": {},
   "outputs": [],
   "source": [
    "import numpy as np\n",
    "import matplotlib.pyplot as plt\n",
    "\n",
    "def sgd(X, y, eta = 0.01 ,n_iter = 100):\n",
    "    '''\n",
    "        función para calcular el Descenso de Gradiente Estocástico\n",
    "        X = Matriz de X's\n",
    "        y = Vector de y's\n",
    "        eta = Tasa de Aprendizaje\n",
    "        n_iter = Numero de Iteraciones        \n",
    "    '''\n",
    "    \n",
    "    # Inicializamos los parámetros ws\n",
    "    w = np.random.rand((X.shape[1]+1))\n",
    "    # Sacamos la longitud del vector y\n",
    "    m = len(y)\n",
    "    # Creamos 2 vectores vacios para asignar las ws y los costos\n",
    "    cost_hist = []    \n",
    "    w_hist = []\n",
    "    \n",
    "    # Generamos un loop que correra por cada una de las iteraciones definidas\n",
    "    for it in range(n_iter):\n",
    "        # Inicializamos el error cuadratico medio --> Costo\n",
    "        cost = 0.0\n",
    "        # Hacemos un loop que seleccione aleatoriamente los elementos a evaluar\n",
    "        for i in range(m):\n",
    "            # Seleccion aletoria de X, y\n",
    "            rand_ind = np.random.randint(0, m)\n",
    "            X_i = X[rand_ind, :].reshape(1, X.shape[1])\n",
    "            y_i = y[rand_ind].reshape(1, 1)\n",
    "            # Y estimada\n",
    "            y_i_pred = regresion_lineal(X_i,w)\n",
    "            # Gradiente del error\n",
    "            g = grad_error(y_i, y_i_pred, X)\n",
    "            # Actualización de las ws\n",
    "            w = w - eta * g\n",
    "            # Error cuadrático medio\n",
    "            cost += (1 / 2) * error_cuadratico(y_i, y_i_pred)\n",
    "        # Guardamos los resultados de cada iteración para las ws y el costo    \n",
    "        cost_hist.append(float(cost)) \n",
    "        w_hist.append(w)\n",
    "    # Retornamos los resultados en un objeto que contenga la w final, \n",
    "    # el historico de los costos y el historico de las ws por cada una de las iteraciones\n",
    "    return {'w': w, \n",
    "            'costHistory': cost_hist, \n",
    "            'wHistory': w_hist}"
   ]
  },
  {
   "cell_type": "markdown",
   "metadata": {},
   "source": [
    "## (2) Creamos datos dummy y los graficamos"
   ]
  },
  {
   "cell_type": "code",
   "execution_count": 4,
   "metadata": {},
   "outputs": [
    {
     "data": {
      "text/plain": [
       "<matplotlib.collections.PathCollection at 0x7f5f106f34d0>"
      ]
     },
     "execution_count": 4,
     "metadata": {},
     "output_type": "execute_result"
    },
    {
     "data": {
      "image/png": "[encoded data removed]",
      "text/plain": [
       "<Figure size 432x288 with 1 Axes>"
      ]
     },
     "metadata": {
      "needs_background": "light"
     },
     "output_type": "display_data"
    }
   ],
   "source": [
    "X = np.array([0.5, 0.15, 0.30, 0.25, 0.35, 0.45, 0.47, 0.55]).reshape((-1, 1))\n",
    "y = np.array([5, 20, 18, 14, 32, 22, 32, 38])\n",
    "\n",
    "plt.scatter(X,y)"
   ]
  },
  {
   "cell_type": "markdown",
   "metadata": {},
   "source": [
    "## (3) Creamos la función e Imprimimos las ws"
   ]
  },
  {
   "cell_type": "code",
   "execution_count": 5,
   "metadata": {},
   "outputs": [
    {
     "name": "stdout",
     "output_type": "stream",
     "text": [
      "[18.48317631  7.54405553]\n"
     ]
    }
   ],
   "source": [
    "wSGD = sgd(X, y, eta = 0.01 ,n_iter = 100)\n",
    "print(wSGD['w'])"
   ]
  },
  {
   "cell_type": "markdown",
   "metadata": {},
   "source": [
    "## (4) Evaluación del Método"
   ]
  },
  {
   "cell_type": "code",
   "execution_count": 7,
   "metadata": {},
   "outputs": [
    {
     "data": {
      "text/plain": [
       "<matplotlib.collections.PathCollection at 0x7f5f0d30ba90>"
      ]
     },
     "execution_count": 7,
     "metadata": {},
     "output_type": "execute_result"
    },
    {
     "data": {
      "image/png": "[encoded data removed]",
      "text/plain": [
       "<Figure size 432x288 with 1 Axes>"
      ]
     },
     "metadata": {
      "needs_background": "light"
     },
     "output_type": "display_data"
    }
   ],
   "source": [
    "# Usando el modelo programado\n",
    "y_pred = regresion_lineal(X,wSGD['w'])\n",
    "\n",
    "# Usando el modelo de sklearn\n",
    "from sklearn.linear_model import LinearRegression\n",
    "model = LinearRegression()\n",
    "model.fit(X,y)\n",
    "y_pred_sk = model.predict(X)\n",
    "\n",
    "plt.plot(X,y_pred[0,],marker='o',color='black')\n",
    "plt.plot(X,y_pred_sk,marker='o',color='red')\n",
    "plt.scatter(X,y)"
   ]
  },
  {
   "cell_type": "markdown",
   "metadata": {},
   "source": [
    "### Funtes consultadas:\n",
    "* [Stochastic Gradient Descent - Andrew Ng](https://www.youtube.com/watch?v=W9iWNJNFzQI)\n",
    "* [Stochastic Gradient Descent](https://ruder.io/optimizing-gradient-descent/index.html#stochasticgradientdescent)\n",
    "* [Gradient Descent in Python](https://towardsdatascience.com/gradient-descent-in-python-a0d07285742f)\n",
    "* [Conceptos Fundamentales en ML](https://planetachatbot.com/conceptos-fundamentales-en-machine-learning-funci%C3%B3n-de-perdida-y-optimizaci%C3%B3n-e30c25404622)"
   ]
  }
 ],
 "metadata": {
  "kernelspec": {
   "display_name": "Python 3",
   "language": "python",
   "name": "python3"
  },
  "language_info": {
   "codemirror_mode": {
    "name": "ipython",
    "version": 3
   },
   "file_extension": ".py",
   "mimetype": "text/x-python",
   "name": "python",
   "nbconvert_exporter": "python",
   "pygments_lexer": "ipython3",
   "version": "3.7.4"
  }
 },
 "nbformat": 4,
 "nbformat_minor": 2
}
