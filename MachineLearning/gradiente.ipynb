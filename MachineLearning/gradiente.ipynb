{
 "cells": [
  {
   "cell_type": "markdown",
   "metadata": {},
   "source": [
    "# Gradiente Descendente\n",
    "Este es un ejemplo del uso del gradiente descendente para obtener los parámetros de un modelo supervisado por regresión lineal."
   ]
  },
  {
   "cell_type": "markdown",
   "metadata": {},
   "source": [
    "### Importación de librerías"
   ]
  },
  {
   "cell_type": "code",
   "execution_count": 1,
   "metadata": {},
   "outputs": [],
   "source": [
    "import numpy as np\n",
    "import matplotlib.pyplot as plt"
   ]
  },
  {
   "cell_type": "markdown",
   "metadata": {},
   "source": [
    "### Datos"
   ]
  },
  {
   "cell_type": "code",
   "execution_count": 2,
   "metadata": {
    "scrolled": true
   },
   "outputs": [
    {
     "data": {
      "text/plain": [
       "<matplotlib.collections.PathCollection at 0x7f71838a90d0>"
      ]
     },
     "execution_count": 2,
     "metadata": {},
     "output_type": "execute_result"
    },
    {
     "data": {
      "image/png": "[encoded data removed]",
      "text/plain": [
       "<Figure size 432x288 with 1 Axes>"
      ]
     },
     "metadata": {
      "needs_background": "light"
     },
     "output_type": "display_data"
    }
   ],
   "source": [
    "x = np.array([0.5, 0.15, 0.30, 0.25, 0.35, 0.45, 0.47, 0.55]).reshape((-1, 1))\n",
    "y = np.array([5, 20, 18, 14, 32, 22, 32, 38])\n",
    "\n",
    "plt.scatter(x,y)"
   ]
  },
  {
   "cell_type": "markdown",
   "metadata": {},
   "source": [
    "### Preparación de funciones"
   ]
  },
  {
   "cell_type": "code",
   "execution_count": 15,
   "metadata": {},
   "outputs": [],
   "source": [
    "def regresion_lineal(x,b):\n",
    "    return np.array(b[0] + b[1]*x).reshape(1,-1)\n",
    "\n",
    "# Definir la función de error cuadrático medio\n",
    "def error_cuadratico(y, y_pred):\n",
    "    return np.mean((y - y_pred) ** 2)   \n",
    "\n",
    "# Definir la función de gradiente del error\n",
    "def grad_error(y, y_pred, x):\n",
    "    return np.array([-2 * np.mean((y - y_pred)), -2 * np.mean((y - y_pred) * x)])"
   ]
  },
  {
   "cell_type": "markdown",
   "metadata": {},
   "source": [
    "### Definición de híper-parámetros"
   ]
  },
  {
   "cell_type": "code",
   "execution_count": 21,
   "metadata": {},
   "outputs": [],
   "source": [
    "eta      = 0.01\n",
    "max_iter = 10000"
   ]
  },
  {
   "cell_type": "markdown",
   "metadata": {},
   "source": [
    "### (1) Inicializar parámetros del modelo"
   ]
  },
  {
   "cell_type": "code",
   "execution_count": 22,
   "metadata": {},
   "outputs": [
    {
     "name": "stdout",
     "output_type": "stream",
     "text": [
      "[0.97881398 0.5567323 ]\n"
     ]
    }
   ],
   "source": [
    "# Inicializar parámetros de la regresión lineal y = w[0] + w[1]*x\n",
    "w = np.random.rand(2)\n",
    "print(w)"
   ]
  },
  {
   "cell_type": "markdown",
   "metadata": {},
   "source": [
    "### (2) Evaluar el modelo en la función de error"
   ]
  },
  {
   "cell_type": "code",
   "execution_count": 23,
   "metadata": {},
   "outputs": [
    {
     "name": "stdout",
     "output_type": "stream",
     "text": [
      "562.3092694282298\n"
     ]
    }
   ],
   "source": [
    "# Obtener predicción del modelo\n",
    "y_pred = regresion_lineal(x, w)\n",
    "# Evaluar en la función de error\n",
    "error = error_cuadratico(y, y_pred)\n",
    "print(error)"
   ]
  },
  {
   "cell_type": "markdown",
   "metadata": {},
   "source": [
    "### (3) Iteraciones del método"
   ]
  },
  {
   "cell_type": "code",
   "execution_count": 24,
   "metadata": {},
   "outputs": [
    {
     "name": "stdout",
     "output_type": "stream",
     "text": [
      "[19.74109172  7.63949214]\n"
     ]
    }
   ],
   "source": [
    "for i in range(max_iter):\n",
    "    # Calcular gradiente\n",
    "    g = grad_error(y, y_pred, x)\n",
    "    # Actualizar parámetros\n",
    "    w = w - eta * g\n",
    "    # Evaluar el modelo en la función del error\n",
    "    y_pred = regresion_lineal(x, w)\n",
    "    error = error_cuadratico(y, y_pred)\n",
    "print(w)"
   ]
  },
  {
   "cell_type": "markdown",
   "metadata": {},
   "source": [
    "### Evaluación del método"
   ]
  },
  {
   "cell_type": "code",
   "execution_count": 25,
   "metadata": {},
   "outputs": [
    {
     "name": "stdout",
     "output_type": "stream",
     "text": [
      "13.813835770528684\n",
      "23.340832395950503\n"
     ]
    },
    {
     "data": {
      "image/png": "[encoded data removed]",
      "text/plain": [
       "<Figure size 432x288 with 1 Axes>"
      ]
     },
     "metadata": {
      "needs_background": "light"
     },
     "output_type": "display_data"
    }
   ],
   "source": [
    "# Usando el modelo programado\n",
    "y_pred = regresion_lineal(x,w)\n",
    "\n",
    "# Usando el modelo de sklearn\n",
    "from sklearn.linear_model import LinearRegression\n",
    "model = LinearRegression()\n",
    "model.fit(x,y)\n",
    "y_pred_sk = model.predict(x)\n",
    "\n",
    "plt.plot(x,y_pred[0,],marker='o',color='black')\n",
    "plt.plot(x,y_pred_sk,marker='o',color='red')\n",
    "plt.scatter(x,y)\n",
    "\n",
    "print(model.intercept_)\n",
    "print(model.coef_[0])"
   ]
  },
  {
   "cell_type": "markdown",
   "metadata": {},
   "source": [
    "### En forma de función"
   ]
  },
  {
   "cell_type": "code",
   "execution_count": 26,
   "metadata": {},
   "outputs": [],
   "source": [
    "def gd(x, y, eta = 0.01, max_iter = 1000):\n",
    "    # Inicializar parámetros\n",
    "    w = np.random.rand(2)\n",
    "    \n",
    "    # Evaluar modelo en función de error\n",
    "    y_pred = regresion_lineal(x,w)\n",
    "    error  = error_cuadratico(y,y_pred)\n",
    "    \n",
    "    for i in range(max_iter):\n",
    "        # Calcular gradiente\n",
    "        g = grad_error(y,y_pred,x)\n",
    "\n",
    "        # Actualizar parámetros\n",
    "        w = w - eta*g\n",
    "\n",
    "        # Evaluar el modelo en la función del error\n",
    "        y_pred = regresion_lineal(x,w)\n",
    "        error = error_cuadratico(y,y_pred)\n",
    "\n",
    "    return w"
   ]
  },
  {
   "cell_type": "markdown",
   "metadata": {},
   "source": [
    "# Gradiente Descendente con Momento\n",
    "Este es un ejemplo del uso del gradiente descendente con momento para obtener los parámetros de un modelo supervisado por regresión lineal."
   ]
  },
  {
   "cell_type": "code",
   "execution_count": 29,
   "metadata": {},
   "outputs": [],
   "source": [
    "def gdm(x, y, eta = 0.01, alpha = 0.1, max_iter = 1000):\n",
    "    # Inicializar parámetros\n",
    "    w     = np.random.rand(2)\n",
    "    # Inicializar parámetros en la iteración anterior\n",
    "    w_prev = w\n",
    "    # Evaluar modelo en función de error\n",
    "    y_pred = regresion_lineal(x,w)\n",
    "    error  = error_cuadratico(y,y_pred)\n",
    "    \n",
    "    for i in range(max_iter):\n",
    "        # Calcular gradiente\n",
    "        g = grad_error(y,y_pred,x)\n",
    "        # Calcular la diferencia de parámetros\n",
    "        dw = w - w_prev\n",
    "        w_prev = w\n",
    "        # Actualizar parámetros\n",
    "        w = w_prev - eta * g + alpha * dw\n",
    "        # Evaluar el modelo en la función del error\n",
    "        y_pred = regresion_lineal(x,w)\n",
    "        error = error_cuadratico(y,y_pred)\n",
    "    return w"
   ]
  },
  {
   "cell_type": "markdown",
   "metadata": {},
   "source": [
    "### Ejecutar ambos métodos de gradiente"
   ]
  },
  {
   "cell_type": "code",
   "execution_count": 30,
   "metadata": {},
   "outputs": [
    {
     "name": "stdout",
     "output_type": "stream",
     "text": [
      "[19.86811925  7.30299536]\n",
      "[19.91271593  7.18485846]\n"
     ]
    }
   ],
   "source": [
    "print(gd(x,y))\n",
    "print(gdm(x,y))"
   ]
  }
 ],
 "metadata": {
  "kernelspec": {
   "display_name": "Python 3",
   "language": "python",
   "name": "python3"
  },
  "language_info": {
   "codemirror_mode": {
    "name": "ipython",
    "version": 3
   },
   "file_extension": ".py",
   "mimetype": "text/x-python",
   "name": "python",
   "nbconvert_exporter": "python",
   "pygments_lexer": "ipython3",
   "version": "3.7.4"
  }
 },
 "nbformat": 4,
 "nbformat_minor": 2
}
