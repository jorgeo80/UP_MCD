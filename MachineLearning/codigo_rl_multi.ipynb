
<!-- saved from url=(0092)https://moodle.up.edu.mx/pluginfile.php/1981893/mod_resource/content/1/codigo_rl_multi.ipynb -->
<html><head><meta http-equiv="Content-Type" content="text/html; charset=UTF-8"></head><body>{
 "cells": [
  {
   "cell_type": "code",
   "execution_count": 1,
   "metadata": {},
   "outputs": [],
   "source": [
    "import pandas as pd\n",
    "from sklearn import preprocessing\n",
    "import numpy as np"
   ]
  },
  {
   "cell_type": "code",
   "execution_count": 2,
   "metadata": {},
   "outputs": [
    {
     "data": {
      "text/html": [
       "<div>\n",
       "<style scoped="">\n",
       "    .dataframe tbody tr th:only-of-type {\n",
       "        vertical-align: middle;\n",
       "    }\n",
       "\n",
       "    .dataframe tbody tr th {\n",
       "        vertical-align: top;\n",
       "    }\n",
       "\n",
       "    .dataframe thead th {\n",
       "        text-align: right;\n",
       "    }\n",
       "</style>\n",
       "\n",
       "  \n",
       "    \n",
       "      \n",
       "      \n",
       "      \n",
       "      \n",
       "      \n",
       "      \n",
       "      \n",
       "      \n",
       "      \n",
       "      \n",
       "    \n",
       "  \n",
       "  \n",
       "    \n",
       "      \n",
       "      \n",
       "      \n",
       "      \n",
       "      \n",
       "      \n",
       "      \n",
       "      \n",
       "      \n",
       "      \n",
       "    \n",
       "    \n",
       "      \n",
       "      \n",
       "      \n",
       "      \n",
       "      \n",
       "      \n",
       "      \n",
       "      \n",
       "      \n",
       "      \n",
       "    \n",
       "    \n",
       "      \n",
       "      \n",
       "      \n",
       "      \n",
       "      \n",
       "      \n",
       "      \n",
       "      \n",
       "      \n",
       "      \n",
       "    \n",
       "    \n",
       "      \n",
       "      \n",
       "      \n",
       "      \n",
       "      \n",
       "      \n",
       "      \n",
       "      \n",
       "      \n",
       "      \n",
       "    \n",
       "    \n",
       "      \n",
       "      \n",
       "      \n",
       "      \n",
       "      \n",
       "      \n",
       "      \n",
       "      \n",
       "      \n",
       "      \n",
       "    \n",
       "  \n",
       "<table border="\&quot;1\&quot;" class="\&quot;dataframe\&quot;"><thead><tr style="\&quot;text-align:" right;\"=""><th></th><th>longitude</th><th>latitude</th><th>housing_median_age</th><th>total_rooms</th><th>total_bedrooms</th><th>population</th><th>households</th><th>median_income</th><th>median_house_value</th></tr></thead><tbody><tr><td>0</td><td>-114.31</td><td>34.19</td><td>15.0</td><td>5612.0</td><td>1283.0</td><td>1015.0</td><td>472.0</td><td>1.4936</td><td>66900.0</td></tr><tr><td>1</td><td>-114.47</td><td>34.40</td><td>19.0</td><td>7650.0</td><td>1901.0</td><td>1129.0</td><td>463.0</td><td>1.8200</td><td>80100.0</td></tr><tr><td>2</td><td>-114.56</td><td>33.69</td><td>17.0</td><td>720.0</td><td>174.0</td><td>333.0</td><td>117.0</td><td>1.6509</td><td>85700.0</td></tr><tr><td>3</td><td>-114.57</td><td>33.64</td><td>14.0</td><td>1501.0</td><td>337.0</td><td>515.0</td><td>226.0</td><td>3.1917</td><td>73400.0</td></tr><tr><td>4</td><td>-114.57</td><td>33.57</td><td>20.0</td><td>1454.0</td><td>326.0</td><td>624.0</td><td>262.0</td><td>1.9250</td><td>65500.0</td></tr></tbody></table>\n",
       "</div>"
      ],
      "text/plain": [
       "   longitude  latitude  housing_median_age  total_rooms  total_bedrooms  \\\n",
       "0    -114.31     34.19                15.0       5612.0          1283.0   \n",
       "1    -114.47     34.40                19.0       7650.0          1901.0   \n",
       "2    -114.56     33.69                17.0        720.0           174.0   \n",
       "3    -114.57     33.64                14.0       1501.0           337.0   \n",
       "4    -114.57     33.57                20.0       1454.0           326.0   \n",
       "\n",
       "   population  households  median_income  median_house_value  \n",
       "0      1015.0       472.0         1.4936             66900.0  \n",
       "1      1129.0       463.0         1.8200             80100.0  \n",
       "2       333.0       117.0         1.6509             85700.0  \n",
       "3       515.0       226.0         3.1917             73400.0  \n",
       "4       624.0       262.0         1.9250             65500.0  "
      ]
     },
     "execution_count": 2,
     "metadata": {},
     "output_type": "execute_result"
    }
   ],
   "source": [
    "datos = pd.read_csv(\"california_housing_train.csv\", sep=',')\n",
    "datos.head(5)"
   ]
  },
  {
   "cell_type": "code",
   "execution_count": 9,
   "metadata": {},
   "outputs": [
    {
     "name": "stdout",
     "output_type": "stream",
     "text": [
      "max =  6445.0\n",
      "min =  1.0\n",
      "stats =  count    17000.000000\n",
      "mean       539.410824\n",
      "std        421.499452\n",
      "min          1.000000\n",
      "25%        297.000000\n",
      "50%        434.000000\n",
      "75%        648.250000\n",
      "max       6445.000000\n",
      "Name: total_bedrooms, dtype: float64\n"
     ]
    }
   ],
   "source": [
    "print('max = ',datos['total_bedrooms'].max())\n",
    "print('min = ',datos['total_bedrooms'].min())\n",
    "print('stats = ',datos['total_bedrooms'].describe())\n"
   ]
  },
  {
   "cell_type": "code",
   "execution_count": 8,
   "metadata": {},
   "outputs": [
    {
     "data": {
      "text/html": [
       "<div>\n",
       "<style scoped="">\n",
       "    .dataframe tbody tr th:only-of-type {\n",
       "        vertical-align: middle;\n",
       "    }\n",
       "\n",
       "    .dataframe tbody tr th {\n",
       "        vertical-align: top;\n",
       "    }\n",
       "\n",
       "    .dataframe thead th {\n",
       "        text-align: right;\n",
       "    }\n",
       "</style>\n",
       "\n",
       "  \n",
       "    \n",
       "      \n",
       "      \n",
       "      \n",
       "      \n",
       "      \n",
       "      \n",
       "      \n",
       "      \n",
       "      \n",
       "      \n",
       "    \n",
       "  \n",
       "  \n",
       "    \n",
       "      \n",
       "      \n",
       "      \n",
       "      \n",
       "      \n",
       "      \n",
       "      \n",
       "      \n",
       "      \n",
       "      \n",
       "    \n",
       "    \n",
       "      \n",
       "      \n",
       "      \n",
       "      \n",
       "      \n",
       "      \n",
       "      \n",
       "      \n",
       "      \n",
       "      \n",
       "    \n",
       "    \n",
       "      \n",
       "      \n",
       "      \n",
       "      \n",
       "      \n",
       "      \n",
       "      \n",
       "      \n",
       "      \n",
       "      \n",
       "    \n",
       "    \n",
       "      \n",
       "      \n",
       "      \n",
       "      \n",
       "      \n",
       "      \n",
       "      \n",
       "      \n",
       "      \n",
       "      \n",
       "    \n",
       "    \n",
       "      \n",
       "      \n",
       "      \n",
       "      \n",
       "      \n",
       "      \n",
       "      \n",
       "      \n",
       "      \n",
       "      \n",
       "    \n",
       "    \n",
       "      \n",
       "      \n",
       "      \n",
       "      \n",
       "      \n",
       "      \n",
       "      \n",
       "      \n",
       "      \n",
       "      \n",
       "    \n",
       "    \n",
       "      \n",
       "      \n",
       "      \n",
       "      \n",
       "      \n",
       "      \n",
       "      \n",
       "      \n",
       "      \n",
       "      \n",
       "    \n",
       "    \n",
       "      \n",
       "      \n",
       "      \n",
       "      \n",
       "      \n",
       "      \n",
       "      \n",
       "      \n",
       "      \n",
       "      \n",
       "    \n",
       "  \n",
       "<table border="\&quot;1\&quot;" class="\&quot;dataframe\&quot;"><thead><tr style="\&quot;text-align:" right;\"=""><th></th><th>longitude</th><th>latitude</th><th>housing_median_age</th><th>total_rooms</th><th>total_bedrooms</th><th>population</th><th>households</th><th>median_income</th><th>median_house_value</th></tr></thead><tbody><tr><td>count</td><td>17000.000000</td><td>17000.000000</td><td>17000.000000</td><td>17000.000000</td><td>17000.000000</td><td>17000.000000</td><td>17000.000000</td><td>17000.000000</td><td>17000.000000</td></tr><tr><td>mean</td><td>-119.562108</td><td>35.625225</td><td>28.589353</td><td>2643.664412</td><td>539.410824</td><td>1429.573941</td><td>501.221941</td><td>3.883578</td><td>207300.912353</td></tr><tr><td>std</td><td>2.005166</td><td>2.137340</td><td>12.586937</td><td>2179.947071</td><td>421.499452</td><td>1147.852959</td><td>384.520841</td><td>1.908157</td><td>115983.764387</td></tr><tr><td>min</td><td>-124.350000</td><td>32.540000</td><td>1.000000</td><td>2.000000</td><td>1.000000</td><td>3.000000</td><td>1.000000</td><td>0.499900</td><td>14999.000000</td></tr><tr><td>25%</td><td>-121.790000</td><td>33.930000</td><td>18.000000</td><td>1462.000000</td><td>297.000000</td><td>790.000000</td><td>282.000000</td><td>2.566375</td><td>119400.000000</td></tr><tr><td>50%</td><td>-118.490000</td><td>34.250000</td><td>29.000000</td><td>2127.000000</td><td>434.000000</td><td>1167.000000</td><td>409.000000</td><td>3.544600</td><td>180400.000000</td></tr><tr><td>75%</td><td>-118.000000</td><td>37.720000</td><td>37.000000</td><td>3151.250000</td><td>648.250000</td><td>1721.000000</td><td>605.250000</td><td>4.767000</td><td>265000.000000</td></tr><tr><td>max</td><td>-114.310000</td><td>41.950000</td><td>52.000000</td><td>37937.000000</td><td>6445.000000</td><td>35682.000000</td><td>6082.000000</td><td>15.000100</td><td>500001.000000</td></tr></tbody></table>\n",
       "</div>"
      ],
      "text/plain": [
       "          longitude      latitude  housing_median_age   total_rooms  \\\n",
       "count  17000.000000  17000.000000        17000.000000  17000.000000   \n",
       "mean    -119.562108     35.625225           28.589353   2643.664412   \n",
       "std        2.005166      2.137340           12.586937   2179.947071   \n",
       "min     -124.350000     32.540000            1.000000      2.000000   \n",
       "25%     -121.790000     33.930000           18.000000   1462.000000   \n",
       "50%     -118.490000     34.250000           29.000000   2127.000000   \n",
       "75%     -118.000000     37.720000           37.000000   3151.250000   \n",
       "max     -114.310000     41.950000           52.000000  37937.000000   \n",
       "\n",
       "       total_bedrooms    population    households  median_income  \\\n",
       "count    17000.000000  17000.000000  17000.000000   17000.000000   \n",
       "mean       539.410824   1429.573941    501.221941       3.883578   \n",
       "std        421.499452   1147.852959    384.520841       1.908157   \n",
       "min          1.000000      3.000000      1.000000       0.499900   \n",
       "25%        297.000000    790.000000    282.000000       2.566375   \n",
       "50%        434.000000   1167.000000    409.000000       3.544600   \n",
       "75%        648.250000   1721.000000    605.250000       4.767000   \n",
       "max       6445.000000  35682.000000   6082.000000      15.000100   \n",
       "\n",
       "       median_house_value  \n",
       "count        17000.000000  \n",
       "mean        207300.912353  \n",
       "std         115983.764387  \n",
       "min          14999.000000  \n",
       "25%         119400.000000  \n",
       "50%         180400.000000  \n",
       "75%         265000.000000  \n",
       "max         500001.000000  "
      ]
     },
     "execution_count": 8,
     "metadata": {},
     "output_type": "execute_result"
    }
   ],
   "source": [
    "datos.describe()"
   ]
  },
  {
   "cell_type": "code",
   "execution_count": 11,
   "metadata": {},
   "outputs": [
    {
     "data": {
      "text/plain": [
       "array([[<matplotlib.axes._subplots.axessubplot object="" at="" 0x000001ad90e884c8="">]],\n",
       "      dtype=object)"
      ]
     },
     "execution_count": 11,
     "metadata": {},
     "output_type": "execute_result"
    },
    {
     "data": {
      "image/png": "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\n",
      "text/plain": [
       "<figure size="" 432x288="" with="" 1="" axes="">"
      ]
     },
     "metadata": {
      "needs_background": "light"
     },
     "output_type": "display_data"
    }
   ],
   "source": [
    "import matplotlib.pyplot as plt\n",
    "\n",
    "datos.hist(column='total_bedrooms',bins =50)"
   ]
  },
  {
   "cell_type": "code",
   "execution_count": 23,
   "metadata": {},
   "outputs": [],
   "source": [
    "x_array = np.array(datos['total_bedrooms'])\n",
    "normalized_X = preprocessing.normalize([x_array],norm='max')"
   ]
  },
  {
   "cell_type": "code",
   "execution_count": 24,
   "metadata": {},
   "outputs": [
    {
     "data": {
      "text/plain": [
       "array([[0.19906905, 0.29495733, 0.02699767, ..., 0.08238945, 0.08564779,\n",
       "        0.04654771]])"
      ]
     },
     "execution_count": 24,
     "metadata": {},
     "output_type": "execute_result"
    }
   ],
   "source": [
    "normalized_X"
   ]
  },
  {
   "cell_type": "code",
   "execution_count": 25,
   "metadata": {},
   "outputs": [
    {
     "data": {
      "text/plain": [
       "<matplotlib.axes._subplots.axessubplot at="" 0x1ad92469cc8="">"
      ]
     },
     "execution_count": 25,
     "metadata": {},
     "output_type": "execute_result"
    },
    {
     "data": {
      "image/png": "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\n",
      "text/plain": [
       "<figure size="" 432x288="" with="" 1="" axes="">"
      ]
     },
     "metadata": {
      "needs_background": "light"
     },
     "output_type": "display_data"
    }
   ],
   "source": [
    "import seaborn as sns\n",
    "sns.distplot(normalized_X)"
   ]
  },
  {
   "cell_type": "code",
   "execution_count": 28,
   "metadata": {},
   "outputs": [],
   "source": [
    "datos2 = datos.loc[:,datos.columns != 'median_house_value']\n",
    "names = datos2.columns\n",
    "\n",
    "scaler = preprocessing.StandardScaler()\n",
    "datos_escalados = scaler.fit_transform(datos2)\n",
    "datos_escalados = pd.DataFrame(datos_escalados,columns=names)"
   ]
  },
  {
   "cell_type": "code",
   "execution_count": 29,
   "metadata": {},
   "outputs": [
    {
     "data": {
      "text/plain": [
       "array([[<matplotlib.axes._subplots.axessubplot object="" at="" 0x000001ad90e8bec8="">]],\n",
       "      dtype=object)"
      ]
     },
     "execution_count": 29,
     "metadata": {},
     "output_type": "execute_result"
    },
    {
     "data": {
      "image/png": "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\n",
      "text/plain": [
       "<figure size="" 432x288="" with="" 1="" axes="">"
      ]
     },
     "metadata": {
      "needs_background": "light"
     },
     "output_type": "display_data"
    }
   ],
   "source": [
    "datos_escalados.hist(column='total_bedrooms',bins=50)"
   ]
  },
  {
   "cell_type": "code",
   "execution_count": 32,
   "metadata": {},
   "outputs": [],
   "source": [
    "from sklearn.model_selection import train_test_split\n",
    "\n",
    "y = datos['median_house_value']\n",
    "X_train, X_test, Y_train, Y_test = train_test_split(datos_escalados,y,test_size=0.3,random_state=0)\n",
    "\n"
   ]
  },
  {
   "cell_type": "code",
   "execution_count": 33,
   "metadata": {},
   "outputs": [
    {
     "data": {
      "text/plain": [
       "LinearRegression(copy_X=True, fit_intercept=True, n_jobs=None, normalize=False)"
      ]
     },
     "execution_count": 33,
     "metadata": {},
     "output_type": "execute_result"
    }
   ],
   "source": [
    "from sklearn.linear_model import LinearRegression\n",
    "\n",
    "model = LinearRegression()\n",
    "model.fit(X_train,Y_train)"
   ]
  },
  {
   "cell_type": "code",
   "execution_count": 34,
   "metadata": {},
   "outputs": [],
   "source": [
    "y_pred = model.predict(X_test)"
   ]
  },
  {
   "cell_type": "code",
   "execution_count": 36,
   "metadata": {},
   "outputs": [
    {
     "data": {
      "text/plain": [
       "array([-86204.52623333, -91401.04965531,  14777.94950015, -18376.5437891 ,\n",
       "        50127.17348375, -41139.4981526 ,  14858.90399182,  77266.55588228])"
      ]
     },
     "execution_count": 36,
     "metadata": {},
     "output_type": "execute_result"
    }
   ],
   "source": [
    "model.coef_"
   ]
  },
  {
   "cell_type": "code",
   "execution_count": 37,
   "metadata": {},
   "outputs": [
    {
     "data": {
      "text/plain": [
       "207266.1753581368"
      ]
     },
     "execution_count": 37,
     "metadata": {},
     "output_type": "execute_result"
    }
   ],
   "source": [
    "model.intercept_"
   ]
  },
  {
   "cell_type": "code",
   "execution_count": 43,
   "metadata": {},
   "outputs": [
    {
     "data": {
      "text/plain": [
       "[<matplotlib.lines.line2d at="" 0x1ad93c45dc8="">]"
      ]
     },
     "execution_count": 43,
     "metadata": {},
     "output_type": "execute_result"
    },
    {
     "data": {
      "image/png": "iVBORw0KGgoAAAANSUhEUgAAAZUAAAD4CAYAAAAkRnsLAAAABHNCSVQICAgIfAhkiAAAAAlwSFlzAAALEgAACxIB0t1+/AAAADh0RVh0U29mdHdhcmUAbWF0cGxvdGxpYiB2ZXJzaW9uMy4xLjEsIGh0dHA6Ly9tYXRwbG90bGliLm9yZy8QZhcZAAAgAElEQVR4nO29e3hU1bn4/3kzmcAEkBBFCwGEVsRLKSA5QktP66Vy0bZSW+utR07ro9W233O0pxzhHJ/jpbSlP76tvX5B671VwVtTVBCp4GmrggYTQBAEUSEBBQ3BhAQySdbvj713mEz23nO/ZPJ+nidPZtasvdfemZ31rvVexRiDoiiKoqSDolxfgKIoilI4qFBRFEVR0oYKFUVRFCVtqFBRFEVR0oYKFUVRFCVtFOf6ArLNCSecYEaPHp3ry1AURelVbNiw4UNjzNBY/fqcUBk9ejTV1dW5vgxFUZRehYi8F08/VX8piqIoaUOFiqIoipI2VKgoiqIoaUOFiqIoipI2UhYqIjJORGojfj4WkRtFpFxEVovIDvv3ELu/iMhvRGSniGwSkbMizjXH7r9DROZEtE8Wkc32Mb8REbHbXcdQFEVRckPKQsUYs90YM9EYMxGYDLQAfwbmAS8YY8YCL9jvAWYBY+2f64DFYAkI4FZgCnA2cGuEkFhs93WOm2m3e42h5BFVNfVMW7iGMfOeZdrCNVTV1Of6khRFyRDpVn+dD7xtjHkPuBh40G5/EJhtv74YeMhYrAPKRGQYMANYbYxpMMYcBFYDM+3PjjPGvGKslMoPRZ3LbQwlT6iqqWf+U5upb2zFAPWNrcx/arMKFkUpUNItVC4HHrVfn2SM2Qdg/z7Rbq8A9kQcU2e3+bXXubT7jdENEblORKpFpPrAgQNJ3pqSDItWbac13NGtrTXcwaJV23N0RYqiZJK0BT+KSAnwVWB+rK4ubSaJ9rgxxtwN3A1QWVmpBWSyyN7G1oTaFUVJP7dUbebR9XvoMIaACFdMGcmC2eMzMlY6dyqzgNeNMR/Y7z+wVVfYv/fb7XXAyIjjRgB7Y7SPcGn3G0PJE4aXhRJqVxQlvdxStZk/rdtNh12QscMY/rRuN7dUbc7IeOkUKldwTPUFsBxwPLjmAH+JaL/a9gKbChyyVVergOkiMsQ20E8HVtmfNYnIVNvr6+qoc7mNoeQJc2eMIxQMdGsLBQPMnTEuR1ekKH2LP63bnVB7qqRF/SUipcAFwHcjmhcCj4nINcBu4FK7fQVwIbATy1Ps2wDGmAYR+THwmt3vDmNMg/36BuABIASstH/8xlDyhNmTLPPXolXb2dvYyvCyEHNnjOtqVxSlsJC+VqO+srLSaEJJRVH6CqPnPev52bsLL4r7PCKywRhTGaufRtQriqIoaUOFiqIoipI2VKgoiqIoaUOFiqIoSgHjFujn154qKlQURVEKmKumjkqoPVVUqCiKohQwlSeX99iViN2eCVSoKIqiFDC3P72lR14rY7dnAhUqiqIoBczBlnBC7amiQkVRFEVJGypUFEVRCpiyUDCh9lRRoaIoilLAfHnCsITaU0WFiqIoSgGzdpt7YUKv9lRRoaIoilLA1HsUxPNqTxUVKoqiKAVMQNxj573aU0WFiqIoSgHT4VHexKs9VVSoKIqiFDC9cqciImUi8oSIbBORN0XksyJSLiKrRWSH/XuI3VdE5DcislNENonIWRHnmWP33yEicyLaJ4vIZvuY39hlhfEaQ1EURbHorTuVXwPPGWNOAyYAbwLzgBeMMWOBF+z3ALOAsfbPdcBisAQEcCswBTgbuDVCSCy2+zrHzbTbvcZQFEVRgIqyUELtqZKyUBGR44AvAPcCGGPajDGNwMXAg3a3B4HZ9uuLgYeMxTqgTESGATOA1caYBmPMQWA1MNP+7DhjzCvGqn38UNS53MZQFEVRgHNPG5pQe6qkY6fySeAAcL+I1IjIPSIyADjJGLMPwP59ot2/AtgTcXyd3ebXXufSjs8Y3RCR60SkWkSqDxzIjG+2oihKPtIb41SKgbOAxcaYScBh/NVQbtYhk0R73Bhj7jbGVBpjKocOzYx0VhRFyUf2esSjeLWnSjqESh1QZ4xZb79/AkvIfGCrrrB/74/oPzLi+BHA3hjtI1za8RlDURRFAYZ72E682lMlZaFijHkf2CMi4+ym84GtwHLA8eCaA/zFfr0cuNr2ApsKHLJVV6uA6SIyxDbQTwdW2Z81ichU2+vr6qhzuY2hKIqiAHNnjEuoPVWK03Se/wM8LCIlwC7g21gC6zERuQbYDVxq910BXAjsBFrsvhhjGkTkx8Brdr87jDEN9usbgAeAELDS/gFY6DGGoiiKAjxevduzffakCtfPUkFMhnyV85XKykpTXV2d68tQFEXJCqPnPev52bsLL4r7PCKywRhTGaufRtQriqIoaUOFiqIoipI2VKgoiqIUMNM+VZ5Qe6qky1CvKIqipImqmnoWrdrO3sZWhpeFmDtjnK9R3a//w9d+lqv+8Aovvd3Q1X/ap8p5+NrPZuTaVagoiqLkEVU19cx/ajOt4Q7AKqY1/6nNAK6CJZ7+l1aO4t2PWruEzqWVozJ2/ar+UhRFySMWrdreJSAcWsMdLFq1Pan+VTX1/HBZLfWNrRgsofPDZbVU1dRn5PpVqCiKouQRiaZVidU+/6lNdEZ91mm3ZwJVfymKoqRAovaPWAwvC7nWj/dLt+LXvzUcLVLwbU8V3akoiqIkiWPPiFQtzX9qc0qqpbkzxhEKBrq1hYIB33QrifTPNCpUFEVRkiRR+0c8zJ5Uwc8uGU9FWQjBKqb1s0vGe+5+Eu2faVT9pSiKkiSZSis/e1JFQkIh0f6ZRHcqiqIoSZLttPK9ARUqilKAVNXUM23hGsbMe5ZpC9dkzH20r5Nv9ox8QNVfilJgJBo8pySP8/dMp/dXb0eFiqIUGH7G47482WWKfLJn5AOq/lKUAiPbNckVJZK0CBUReVdENotIrYhU223lIrJaRHbYv4fY7SIivxGRnSKySUTOijjPHLv/DhGZE9E+2T7/TvtY8RtDUfoyajxWckk6dyrnGmMmRlQGmwe8YIwZC7xgvweYBYy1f64DFoMlIIBbgSnA2cCtEUJisd3XOW5mjDEUpc+ixmMll2RS/XUx8KD9+kFgdkT7Q8ZiHVAmIsOAGcBqY0yDMeYgsBqYaX92nDHmFWPVPn4o6lxuYygZRr2L8pd8C4ZTcovp7KBl53o+ePxWmjc9n/Hx0mWoN8DzImKAu4wxdwMnGWP2ARhj9onIiXbfCmBPxLF1dptfe51LOz5jdENErsPa6TBqVOZSPvcV1Lso/1HjsbJv3z7uvfde6pf8ho6mAwQGlmNOnZbxcdMlVKYZY/bak/pqEdnm01dc2kwS7XFjC7m7ASorKxM6VumJehcpSn5ijGHt2rUsXryYqqoq2tvb6T96EuVfupbQp85GApl3+E3LCMaYvfbv/SLyZyybyAciMszeQQwD9tvd64CREYePAPba7edEtb9ot49w6Y/PGEoGUe8iRckvGhoaeOCBB7jrrrt46623GFQ2hBM/ewly+pcoHjI8q9eSslARkQFAkTGmyX49HbgDWA7MARbav/9iH7Ic+IGILMUyyh+yhcIq4KcRxvnpwHxjTIOINInIVGA9cDXw24hzuY2hZJBEU3MXEulOc67kD73tu/3z63Xcek8Vu/7+Z1q2/R3THuZzn/scs/7l+6w8PJqjJhD7JBkgHTuVk4A/216+xcAjxpjnROQ14DERuQbYDVxq918BXAjsBFqAbwPYwuPHwGt2vzuMMU5R5RuAB4AQsNL+AUuYuI2hZJC5M8Z1s6lA3/AuUltS4dKbvtumpib+c+H/4/577+boB7uQkhADxl/ACZVfZu4NX2XRqu0cNbnTGojlUNV3qKysNNXV1bm+jF5Pb1vVpYNpC9e47tAqykK8NO+8HFyRki56w3e7adMmlixZwp/+9CeampoInjiGQZMuZMDpX6SoXylgXe9eu7ZLPLy78KK4xxeRDREhI55omhYlKfqid5HakgqXfP1ujxw5wuOPP86SJUt4+eWX6d+/P5dddhmrOsZTMnwctoaoC2eR5yYgs4WmaVGUONFI9cKkqqaeInFzMs3dd7tjxw5+9KMfUVFRwdVXX82HH37IL3/5S+rr63nggQf45JmTeggUoEtrEB38mk1UqChKnGikeuHh2FI6XMwAXt9tpgJ/w+EwTz31FBdccAGnnnoqv/71rzn//PN54YUX2LZtGzfddBPl5eWA/7MYHfyabVT9pShxomnOCw+3mCuAgIhrFoJMGPTr6ur4wx/+wD333MPevXsZNWoUCxYs4Dvf+Q7Dhg1zPSbWsxipnh4979mkritZVKgoSgL0RVtSIeNlM+k0xvV7Tlfgb2dnJ6tXr2bx4sU8/fTTGGOYNWsW/zr3J6xtqeCej9tY8eCbzJ3R6VubPh+fRRUqiqL0epL1RvQyaheJUFVT3+McqRr0Dxw4wP33389dd93Frl27OPHEE7n55pu59tpr2dhYYu+C2oD8dmv2Q20qiqL0ahyVVL3tSutMxvHYOryM2h3GuJ4jGWcNYwx///vfueqqqxgxYgQ333wzI0eOZOnSpezZs4ef/vSnjBkzxncX1JtQoaIoSq8mlcnYMWoHXDyp3M6RiLPGoUOH+N3vfsf48eP5whe+wLPPPsv111/P1q1befHFF7nssssoKSnpMvx7uQHn2q05UVT9pShppC8GheaaVFVSsydVcNOy2rjOMXtSBdXvNfDo+j10GENAhK9P7m7b2LBhA0uWLOGRRx6hpaWFf/qnf+Lee+/l8ssvp7S0tNv5og3/bvQ2l3UVKoqSJnpTqo98IR1COB256OI9R1VNPU9uqO9yQe4whic31DP+xBCHt/2NJUuW8Nprr1FaWsqVV17J9ddfz+TJkz3H9fI+c+iNLusqVBQlTWhJgMRIhxCuqqnn8NH2Hu2JTsbx5rOL/o7DH+6hoXYlV/3fNXQcaeaMM87gt7/9Ld/61rcoKyuLOa7fbqqil+50VagoSprI11Qf+UqqQthLdTSkNMitXzkzock43hikvY2tmI4wLW+9QlPtSo7u3gxFxZSOm8Yn/3k2d3z3G3ztrBFuQ7jitUMKiLC3sbXLptObBIsKFUVJE325JEAypCqEvVRHpSXFSU3C0XEfjgHdETJzxpcSXv8w+15dSWdLI8WDT6Lsi//KwPFfIjCgjCbgv/78BiISt1Bsaeu5ywK61Gu9UYWqQkVR0kRfLQmQLKkK4UzuDJ1dUMvRNlp3baCmZgUv79qAiDBg7BRKJ8yk/5hJiHR3oG0Nd/Afj20EvIVAVU09ty3fQmNruMdnQs+ytq3hDm5cVsuiVdt7hTpMhYqipAlN45IYqQrhTO4Mf/LEK7z/9+U0bXyOjo+t+u6DP3c5gyZMZ870yazddsDTBbjDGG5cVsvtT2/poYaL5e3ll7K+t+xaVKgoShrJ19QZ+UiqQjiWUErUs8yp775kyRKqn3wKOjvof/JEys+7ltApx+q7r912gJfmnecbWwJwsCXcQwjE8vaKRW9w/Ehb8KOIBESkRkSesd+PEZH1IrJDRJaJSInd3s9+v9P+fHTEOebb7dtFZEZE+0y7baeIzItodx1DUZTsk2j23lTdiaOz8VaUhbqSQMYbZV9VU8/Z/1NF+fnXUnriqK6swMOnXcLwa+/ipMsXUDruc10CBY6p1+JJMR8dQBmrzsmQ0mDMc9Y3tjLpjufTlh053aRzp/LvwJvAcfb7nwN3GmOWisgS4Bpgsf37oDHmFBG53O53mYicAVwOnAkMB/4qIqfa5/o9cAFQB7wmIsuNMVt9xlAUJYvcUrWZh9ft7lLfxFLVuLkTz318I7c/vYXGlnDcQsZrZxjLs8wYw6I/PsNPfvEbmrb+DdPeRr+K0xn21R/xq/nXU9KvPzctq3VVRznqNWfc/3hso2vqfAdHCFXV1LvaTBxCwQC3fuXMruuPtQua+8RGqt9rYO22A3mlbk3LTkVERgAXAffY7wU4D3jC7vIgMNt+fbH9Hvvz8+3+FwNLjTFHjTHvYNWwP9v+2WmM2WWMaQOWAhfHGENRlCxRVVPfTaA4OEZrtxX1bcu39Jj0w52Ggy3hrp3FTctquaVqc1LX5GWsr9vfwPdu+TmDKk7l5jlfpWnbSwwY/yWGffs3fOJbiyg5/Rx+/eJ7zJ5UwVVTR/WoRxJt85k9qYJffHOC7+7CEUKLVm33FChDSoNdu6zZkyp4ad55/Oqyib7nDXcYHl63O6mcZ5kkXTuVXwH/CQyy3x8PNBpjHH+5OsARnxXAHgBjTLuIHLL7VwDrIs4ZecyeqPYpMcbohohcB1wHMGrUqCRuT1F6D9lOFeM3WTqJGeHYyr6qpt7V8ykaAzy8bjeVJ5enHGXfduBdmmpW0rJ1LYuPthA8cQzlM77frb67gyOQFsweT+XJ5TH/ls57N4+uSCHk55VW8z/Te7Q5573RI4UMuHuKRdpcciFgUhYqIvJlYL8xZoOInOM0u3Q1MT7zanfbTfn179lozN3A3QCVlZV+DhaKkhT5kvMrk6livO4xlgtv9ESXSNZdY/dP9NrPPW0of/zHTg5vf4nmmpUcrd8KgSCDz/gCoQkzKRl+mms5XujuPRav44XTz+858PJWE3BNs++cN5YqLJrI7yMXGY7TsVOZBnxVRC4E+mPZVH4FlIlIsb2TGAHstfvXASOBOhEpBgYDDRHtDpHHuLV/6DOGomSNVCfydAqkTKWK8btHr8kyksiJLtE4kkT779y5k/t/uYD3q5+js/VjiocMZ8i51zBg/PkEQsf5HitYAikR4v3+5s4Y52qncROckecsKw1SBHTGeT2RQjEX2RxSFirGmPnAfAB7p/IjY8xVIvI48A0sG8gc4C/2Icvt96/Yn68xxhgRWQ48IiK/xDLUjwVexfqex4rIGKAey5h/pX3MWo8xFCVrpDKRp3tnkamAQL97dHPtjcYA0xauYe6McXEJoUjc4k6iJ/Ifnv8piupeZ/HixaxevRqkiNKxUxk46UL6n/yZHkGKfte57NU93VRufkIj1vcXfayXmiTy+4k+58GWMMGA0NkRW8kSLBJa2toZM+9ZhpeFGBwKxqVqTCeZjFO5GVgqIguAGuBeu/1e4I8ishNrh3I5gDFmi4g8BmwF2oHvG2M6AETkB8AqIADcZ4zZEmMMRckaqUzk6d5ZpDsg0C/6G6x7jFRr+QkLZ8L9+uQKntxQ3yO+5KxRg3n57YZuE28oGODc04Z2S5dy7mlDWfbaHsIdhvaPP2TLP1Zx2U9W0dHcwAmfGM6Pf/xj/tJyKgc6B/S4BhEQ47/qD3eabqnw/YRGrFou0cd64Xw/VTX1rt5k4Q4rzb6bl1lAhE5jGBwKcritnYMt4a7xggF3FV8mEePjCleIVFZWmurq6lxfRp8iX+wNmcIrCK6iLMRL887zPXbMvGddV68CvLPwophjR/9tzz1tqOuE7XgWJUJVTT1zH99IuNN7joi+x1uqNvOndbt9z+tk33V7Jm6p2tytVsnUTw7h9d2Hut2PMZ0ceaeGptqVtO58FYyh/yfPYtCkCykfN4WF35gIEHP3FItQMED/YFHXJB1JQIRffHOCp9uxQEK7hF9dltw1R363sYIx3Xg3jmfMQUQ2GGMqY/ZToaJkEre0FMlOcvlKKvcYSyA5QqO+sbVrpepMytBzEgoFA3x9ckVaYhdiTVLR91hVU+85ybpRYQtB51rLSoM0H2n3FGIdLYdo3rya5trnaG98n6LSwQz8zAUMnDCTYNknup33pXnnxSXgUiEUDNCvuMhVcJQlqHYSoMhjJ+JFdDZmrwWKHypU0oAKleySyiq+N5HsbsxPIIH3ytVvFZ2uv+3oec/6fj6kNNgtUDFRL6V4MMZwtH4rzTUrObz9H9DRTr+Rn2bQxFmUnvo5pDjoelyZrQoKx2GHSIUhpUGOhDt7fH9e3026iay5ki87Fc39pWSUvlJjJNmcX375r6YtXOOpCmkNd3h+Fu/E4icIYwUdCnTT3aeqaoqm8+hhDm9ZS1PNSsIfvof0G8CgibMYOHEWJSfEjjVLl3E6FCyiNextgWlsCXPnZRO7eWoZQ1YECnS38bg5TPhF8GcKFSpKRtEaI7HxEkjJCt6iOGyzfl5L1e81xFQbuQXdeRmSE+Ho+ztprl3J4a3/iwkfoeQTYymf+W8MOP0LFJX0T+nciRIKBpAYU/LwslC3GJV0C9d4cDIX/OKbE/jZJeN72NgyqQJ0Q4WKklG0xkjyJOp66xBpkog2fF8xZSQLZo/n9qd7pklpDXfw33/ezOG25CbFZAVKZ/gILW/+nabalbTtewsp7seAM77IwImz6DdsbFLnTIRIG1WiE/Lo448tjlLNQJwKTuaCn10yvofqU4WKUlAUWo2RRG0nqXi+xRP/4Ue0obrDGP60bjfvHGj2VM8kK1AgcVVL+KM9NNWs5PAbL9B59DDB40cy5EvfZeCZ51LUf2DS15EokZNw5HczbeGamMe+/HZDVzS83wLAaxeXTvVUa7iD25Zb0RaRz1y2UaGiZJxc1xhJl0tzooGKqQY2Rsd/xKteKgtZxutH1+9x/fyltxtiniMZ4pkcrfru62iqXRFR3/1zDJp0If1GnOmZOiWTRDokBItgYH/LASGu+wFuf3oLsydVxIwj8Tq+IsaOdEip9X3GY6dpbA13cwNPt+NEPKStnoqi5CPx1tWIh1iBbqn2d7t2RxhWlIX4xTcnuCa8i6axNcykO55P2b6RTtoPfcDBvz1E3eJv8+Hyn9N+aD9lX5zDiO89wNCv/if9R346JwIlmnAnXZmS4+VgS5iqmnrPv3eHMZ47hrJQkJfmnUeFz46i+Uh7QoZ/v7iibKAuxUpBk06XZr9ARTcPID8PJAHfXZOb0VewvJFafLyR8gnT2UHrO6/TXLOC1rerQYTQp/6JQRNn0f+TZ8WdOqU3UBYKMqBfccI7g0CR8ItLJwA93ccF6B/D+yxV1KVYUTxININuLM8qt/N5Gc4Hh4I9cjXFInLX5OCMNzgU5OMjYaIXnAZoCXcSDEi3+AvHSylfhE1H80GaN6+mqfY5Oj7eb9d3v4yBE2ZQfFxiyRp7C42tYb48YVjCRvGOTsPtT2/pSn0frer0EiiClXImx5sSV1SoKK70ptQqyWTQ9TNgep3PK2eVCEkb01vDHdz0WC2RCoNYMRYDSoq79ctWoJ0fxhiO7t5MU+1KWt562a7vPoEh511D6SlTupXjLVSe3JBc7RLnu5s9qYLq9xp4eN3umKrLZD0Ds0Hhf9NKwmSyJkcm8LJd3LZ8C25q+uhMrtEC0+t8a7cd4GeXjO+WYNEvCDFeEtVAN7aGu1UEzKVA6TjSzOHNL9BUu5L2hjqK+g9k0OSvMGjiLILl+fesZJJUnwOvCprROC75XhkMRBJ/ptKJChWlB5mqyZEpvFRZbiv+ULCIdrtsLbgLzFgqs8Nt7a6f+zGkNEhpSeI6dy9yFQ8B1q6kbd9bViXFbXZ99+GnMfiimygd93mKgv1ydm29Ecdbz6+CJvS0w3kFqRbburFcGexVqCg96G2pVRLJBtvWbnqoFqIFppdqoUiE25/eklQ+qaPhDm79ypkxs/7mM51trRze+r80166k7YO3kZIQAz59PoMmzaLkxE/m+vJ6LY2t4bjyrJWWFLO3sbXLe3DttgOufcOdEAwkntQyXahQUXrQ21KrJOKJ6qWrjhSYXkGHHcYkrWpqCXdS/V6DexHsPMep7354yxpMWyvBoaMpn/49BpxxTo/67kpmONgSTijXWrjDMKBfMbW3To8psNKNChWlB/mQWiURR4HGBCZ6rwC16Lrk8eS/iiZWEFs8+vJ8wbSHObz9H93quw847fMMmnShb313JTvEk2stV5qFlIWKiPQH/gb0s8/3hDHmVrv871KgHHgd+BdjTJuI9AMeAiYDHwGXGWPetc81H7gG6AD+zRizym6fCfwaq/LjPcaYhXa76xip3lNfJ9epVRJ1FPDaWUWnwHBqjUR7cEUb7p1CV4lQBHzYfNS3T28QKOGD+2iuXUnz5r/a9d2HMeTc7zBg/Jdi1ncvVJwU/9n8/uKpr9JhDKFgwHPHkivNQjp2KkeB84wxzSISBP4hIiuBHwJ3GmOWisgSLGGx2P590BhziohcDvwcuExEzsAqLXwmVo36v4rIqfYYvwcuAOqA10RkuTFmq32s2xhKimQqtUo8OxCvZIdejgJeOyuvYlWVJ5d3XYMTXBapWohnRxEpsIJF0IlwtD0/4kQSxXR20LrzVZpqVnDk3Zqk67sXKtkWKGBV/RwTQ23lJMK8/ektPdSyuUzamrJQMVZIfrP9Nmj/GOA84Eq7/UHgNqwJ/2L7NcATwO/E2ktfDCw1xhwF3rFr2J9t99tpjNkFICJLgYtF5E2fMZQ8JJ4dSFVNvafdwms7n+zOyoBrcFm8OZ8crFP0hn1Id9qbPqR54/M0b1xFR/NHBAadwODPX8XAz0yneNDxub68tFGaYhaCbH+zjjeYXyyKIzQi0+7nS1xZWmwqIhIANgCnYO0q3gYajTGO72Ud4NxhBbAHwBjTLiKHgOPt9nURp408Zk9U+xT7GK8xoq/vOuA6gFGjYhf4UTJDPK7KfnmxIrfzbv9EbmlX4qnh3pcwppMj79Za9d13rLfqu485i/Lp3yP0qUqkKBD7JL2MlnAnRUBv2UeeOXwQYO3A5z6xsYe3YVkoyG1fPROw0hDlgyCJJC1CxRjTAUwUkTLgz8Dpbt3s324WPuPT7rb39uvvdn13A3eDlfvLrY8SP8muiuJxVfYzLjrbebcdz03LarlxWW238qpu/bJdWyJfsOq7/9Wu776PotLBHHf2JQyc2L2+e6EiRXma08SFl3dFZJGOuuRgkXQJlHwNUE6r95cxplFEXgSmAmUiUmzvJEYAe+1udcBIoE5EioHBQENEu0PkMW7tH/qMocRBMsLBbaK+cVkttz+9hVu/cqbv8fG4Knv1KQsFu+1moncazv9efWMrc5/Y2C3qva9i1Xd/k+aaFd3qu5f987d867sXIh05EChFAEnIMsc2v4UUtqMAACAASURBVGjV9h4xTeFO07Wbj7Xrd/6/s006vL+GAmFboISAL2EZ0NcC38DyzpoD/MU+ZLn9/hX78zXGGCMiy4FHROSXWIb6scCrWDuSsbanVz2WMf9K+xivMZQYJJuKxau63cGWcMzj43FV9urjrM4gtqtkuMP0aYHSebTFqu9eu5LwgXeRklKrvvuEmZQMPTnXl9dnSNXUlkwQsvNZrkobQ3p2KsOAB227ShHwmDHmGRHZCiwVkQVADXCv3f9e4I+2Ib4BS0hgjNkiIo8BW4F24Pu2Wg0R+QGwCsul+D5jzBb7XDd7jKHEINlULH4PdKzj4zGoO68jdxr9g5YG1Fl59Q4lRvZp++BtK0hx64t2ffdTclbfXfFnSGmQo+EOVweCUvt5j7Wzd/vMYNlZWtrac2Y3TIf31yZgkkv7Lo55b0W2HwEu9TjXT4CfuLSvAFbEO4YSm2RTscTKjhrreD9XZUdo1De2djOYHWwJc+OyWt/z9lU6w0dp2fZ3mmpW0rZvO1Lcj9LTv2BVUsxCfXfFn7JQkMNt7d2M7cGAcOtXznQNsC0S+OklnwFi7+y9diK5zl6sEfV9lGRTscSqm55swFVVTX23vFi6G/En/FEdTbUrObz5r8fqu59/HQM/fV5W67sr3oSCAb48YRjLXo0q62yg+r0G1wDbTnPMAzKenb1XpuJcokKlj5JsKhbngZ7/1KYeMR6JBFxV1dTzX09typvCUr0B0xGmZcd6mmpWcHT3Jqu++6mftXYleVKOV7EQ6Aq+dTO2+3khRts3/dTJsydVeFYkzRUqVPoofqug+LzCpMe7r0+OLwr/lqrNfda1NxnaD+2naeMqmjetovNwI4HjTqTsC1cz8DMXEBgwJNeXl3dkMztvyKPcr8HKIpzsLiKRUhN+KulY+cEygQqVPkz0Kqiqpp5JdzzfLaLdzSvMy6XXKxW3c263dBKKO93qu+/aAEDoU5VWffcxZxVkkGK6aDrSjmBN+JnaCYeCAX52yXhf9ZNjG0x2So83IeTcGeM8bY6dOajWpUJFAfxdEKNXTV4Pe31jq2uEb1VNvWtksNKTjsMHad4UUd99wBAGT72UgRNnUHzcibm+vF6BszJPVKAksqr/2SXjmT2pIqYDSSpPfLz2ydmTKjwXbMPLQrx/qBW3f71AhrSlKlQUwDv+xCFSkPhlBXbaI3c4i1ZtV4HigzGGo3s2W5UU33oFOtut+u7nfofSsVP7RH33XOOkPonHy7CiLNS1WEoVR5C5ZdROJCHkrV8509NG6nVPmfqX1KdVAeJzJXZwM/K7bfNbwx3qCuxDx5FmDr/xAk01kfXdv8ygCTMJHj8i15fXpzjUGmb2pApuWlbru7uInOxjRavH2vk4KjSg205DOKYdgPjSrvjZSLP9P6hCpQ8TaZD3q90QvWpye4Dzza0xXzHG0Pb+DppqVtDy5t8x7UcpGT6O47W+e05xFk2xFu/9io+lIoy1ELtiykjf5KVfn+x4UnZfoEWmHHJ2+xA7C3emylUkipgcGHJySWVlpamurs71ZeScRNI4fGvqKBbMHt91XFeAohzLU6T409l2hMNbXzxW3z3YnwFnnsOgiRdScpLWd08Vv11BvBmKAyL0DxZxuM3/f8LZlfuN2a+4iO0LZlFVU88PH6t1zf/l1J2PtSArCwU52t7ZQ7Xl2HXAP4+fXznhdxde5Dt2JCKywRhTGauf7lT6KLFsKJE4Xl3RgkgFSmzaDrxrVVJ8Yy2mrUXru2eAIaVBzhg2iJffbui20xDoKsIWjZtA6DAmpkCBYzsJP9WWU7DNT/10sCUcVylsN/foSOeZWHn8vDzQMhXVpEKlj5JI/WqnbyKCqC9j2sO0vPWSFaRYd6y++8CJF9Kvom/Udy8NFvHTSz5D9XsNcVXSjMRPGLhxsCXMS283dGsT4Kqpo3jYIx4qlpdXKq7AiZCK6tjv/zJS6HjdR6buT4VKLydy21tWGsQYy+gY+dpNB5vIw+yXwE45RvjgPpo3PkfzptVWffeyYZSd8x0Gjj+fQOngXF9eVikpDnD701tobDn2LMYbkOhVkTMRnLipZCftOy+bmJKB26neWFVT7ymgykLBmGmPQsEA/YNFru7Cg+0xks3jlylUqPRiore9kQ9erADGWA+zQy5rXfcGuuq7167kyDuvH6vvPnEW/UdP6LP13SMFyMGWMKFggG9NHZXVqpv1ja1JjRkQYfakiqTzajmFtJz/TzeB4vSJdnpxWwwC3fLiORxua6eqpj7pPH6ZQoVKL8DLCHfb8i1x/7NEBzA6v//jsY2+qgAn9cotVZs9+/RFetR3H3i8Xd/9AooHnZDry8s7WsMdrN12gK9Prshqip4nN9QnPOYVU6yagPEuvKZ9qpx3P2rt8f85beEa12MDIiy6dEK3/8VYXltuwY3hDqtgV6w8fgNKAq62ogElmcnKoEIlz/EywlW/15BwfiO3iPdYaRye3FBP5cnlPLp+j2+/voBV330jzbUradmxDkynXd/9BkKf+qeCTZ2SrvruextbfVP5ZAJHmFXEoQZz7DCVJ5d3/Z8MDgUpEnwN+O9+1MpL887r0e6lfuo0JmHXXy+D/t7G1pjZjCeOHNzD5uS0Z4J0VH4cCTwEfALr2bvbGPNrESkHlgGjgXeBbxpjDoplpfw1cCHQAvyrMeZ1+1xzgFvsUy8wxjxot08GHgBCWHVV/t2u/Og6Rqr3lE94GeGSneQjI97j0Rm3hjs8XSL7Ch2tH9O86a80b1xJ+8F9FIWO47izv8bAibMKur67E2UOcPOTm7o8mpJleFkoJ3r+vY2t3HnZxJipgoaXhag8ubzbIq6x9Zjqzmu343VPXmopp5BWPOW7Y53LUXH57XbW7XKfEr3aUyUdCt924D+MMadj1ab/voicAcwDXjDGjAVesN8DzMIqFTwWuA5YDGALiFuBKViFt24VEScF62K7r3PcTLvda4yCwWt1lc3Mo31RoBhjOFL3Jh8+8wvqfj+HxhfvIzCgnBO+8iNGfO9Bhpzz7YIWKAAD+llrzvlPbU5ZoDjqmFzo+YfbaVUWfWMCQ0qDnv32NrZ6LuKc3Y7X+d2YO2McoaD77tXROMSb6sXtXPHaO73mikzNIemo/LgP2Ge/bhKRN4EK4GLgHLvbg8CLWOV/LwYeMlbU5ToRKRORYXbf1caYBgARWQ3MFJEXgeOMMa/Y7Q8Bs4GVPmMUDLlIXd2X6TzawuGtL9JUs+JYffcJMxg4cSYlQ0fn+vKyitckG01A3PNIDSgJ0NLW0UMd42enSPV598uh5azmpy1c47nq9/OkuvOyiQnVIIpUS7mNl0h6+3gKduULabWpiMhorNLC64GTbIGDMWafiDgpViuASN1Nnd3m117n0o7PGAVDrNxBGjeSHto+2EVT7QoOb/1fTFsrJSd9ivKZ/8eu754bL5pcE687rpdGqay0hC13dLc1OJOgd5LD5AWKo66LNfH6Gba9BICz24HEJvZYhbQSUQfmSxqWWKRNqIjIQOBJ4EZjzMc+AV5uH5gk2hO5tuuw1GeMGjUqkUNzzpDSoKuPeoX9QDsPuEjfVFOlglXf/R801ayIqO/+zwyadCElnxjbJ4IUvQgGhHNPG5qSp5bfhOkVu5HKTkUkvok3lnDw240kO7Hnm9tvJkmLUBGRIJZAedgY85Td/IGIDLN3EMOA/XZ7HTAy4vARwF67/Zyo9hft9hEu/f3G6IYx5m7gbrByfyV1kzmgqqae5iPtPdqDAen6J+jy8Lj9+axVu+vtdNV3f+MFOo80U1w+giHnX8uAT59PQOu7Wxh4ckNd7H4+eE2Yi1Zt91wV+gmUgAidxngeG0/KEwc34eC47reGO7qEW0Wa1EzJlu/ujaTD+0uAe4E3jTG/jPhoOTAHWGj//ktE+w9EZCmWUf6QLRRWAT+NMM5PB+YbYxpEpElEpmKp1a4GfhtjjIJg0artPQKe4Jh/OhxbdR1SgeKL6WinZcc6mmtXcOS9yPrus+g3cnyf3pW4Ee40rs+eF4nUA0k2M4MzyTe2tLm6+JaWBFyLxMVDtOt+hzFd95AOlVMubSJe7tRejgepko6dyjTgX4DNIuIoSv8La6J/TESuAXYDl9qfrcByJ96J5VL8bQBbePwYeM3ud4djtAdu4JhL8Ur7B58xCgI/9UF9Yys3LavlxmW1VJSFEsqV1Jdo/3g/zbWraN70PB2HD2p99wwQCgb4+uQK1m47ENeEmYqKy08gHW7r4HBbzyJx8UzcsfJn9Wa81JjnnjY0I+Olw/vrH3gnvDzfpb8Bvu9xrvuA+1zaq4FPu7R/5DZGLvFLQZ0osQylkXUXlGOYzg6OvPM6TbUraX27Goyx6rtPurDP1XfPVGLESFufEzd1xZSRVJ5czqJV27lpWW1XtHf0858tb8ZEhEKm82fFyiScSbwCTjMViKoR9Wkk3Q9OvGkiFIuu+u4bV9Fx6AOKBpRx3NRLGTRhBsWDC84xMC6KioQOHzVWWShIuKOzhzoplmfhkajPOozhT+t28+ire7rGy+bE6UW8QiHThvRc7oSynXBShUoa8XtwnM8T2cHE8nNXnPrub1iVFLvqu3+GIed8W+u7g69AqSgLdaUXcdth+z13XqrW6PGiJ8501HWHnjswrx1ZvEIh04b0XGYSzrbnWd/+j0szXg+Is2JLZgfjeKkkUqmxL9B5pJnmN9bQXLuS8Ed7rPruZ13EoImztL57nESXiHZ7FmPVbI8H5//CeYZTxc2Gc+5pQ3tkI05EKGTakD44FHT1znTS12eSuTPG8cNltd3ytxVBxjzPVKikEa8VQUAk5a2v7losju57i6aalbS8+TervvuwcRx/4U2Unqb13RNBiG9B41ZkKxQMcLS9I+64qDI7NUqs6PxvTR3F2m0HfJ9vPxdfx56TrFDIZHChl3NhNpwOq99r6JEQtNNuz8T9qlBJI15baK9/pES3vn1VsHS2HeHwm/9r1Xd/f6dd3/1cBk2aRclJn8r15eWMVDIqXDU1viDgBbPHu07W1e81xB0Y6djl/Z73b00dxYLZ46mqqXdN/Bgs6p4u3o18jjj3iqFJJLYmWbyqXz68bjcLZo9P+3gqVNKI1xbaL/VDIvQ1FVjbgffs+u5rrPruJ5xM+QU3MODMc/t8fXdnxR6rHk40ARGumDIyocnEbbJ23j+yfnfMHYsTQ+W3k688ubzbeSPrhzjpV/JVYEBsr89cRtRrOeFejtdqKR1GwL5QI96q7/6yXd99CwSKGXDaPzNw4iz6VZyuQYrQIygvnoWGAO8svCit17Fg9viY6io4NnF6eTN2GNPNxpjojiOdbvzJEI/Xp0bUK2klWSNg9D9LIau8wo3v01z7HM2bV9PZcsiu7/5tBo7/Up+r7x6J49XklTYk+tkq8ggszNSKOJYKNzpvFrhXG03WvTaX8R8O8bgL96Ysw6miQiVLxLv6cgRJfWNrNzfJQhQoprOD1rdfo6nGqe8uhMZOYdDEWfQfPbHP1neP5M7LJsbtIQjuKtJMroj9FjtuRvXZkyo8MxQn8oxH/p9Ek+1I+HjdhXNl8ynz8Dwry5DnmQqVPCJ6Qug1mS8TpL3pI5o32fXdmz606rtPu4KBE6bndX33YBFkOxOO2yTkp+7J9orYS63zs0vGJ5ymJRCnajMe22I2K0zmewbi2756JnMf39gtl1uwSLqqeqYbFSp5RCHbTIzp5Mh7m2iuWXGsvvvoSZR/6buETjm7V6ROybZAcUv4F4+6J5srYj8h5iX8Uq1EGM//STYn9Hy3l2R7oaFCJYvEMijmon53pulo/ZjDm/9KU+1ztB/ce6y++4SZBIcMy/Xl5S1ek1I+Jj70SiPvJfxS3akkYsfJBr3BXpLNhYYKlSwRzwqzUIzxxhiO1m+juXYFh7f9AzrC9BtxBmWfv5LSU6chxZmPIs4n4k0p4tQL8ZuUcpnuIxq/RZKf8Et1pxLLjnPuaUO7klpma4KPZ9K+pWozj67fQ4cxSbl2p0I2PeRUqGSJePKCRRvnexs967uHGDRhOgMnziq4+u7xfE9Obq3of2ivlCJ+dgiHfNHfx1ok+Qm/VA3HfnYcIOfeYG7cUrW5W7Cok4ATyLhgybaHnAqVLBFvXjCnfrLB22sj32jbv4ummpUc3vrisfruM37AgDO+WJD13R1hcdUfXuGltxtc+8QqQZtsSpF80d/HUsP5Cb+Wtp7VTCH+lCV+6qZpC9fknXoQ4NH1ezzbMy1Usq0yVaGSJRLJC+YIlKPt+Vt0qzN8lJbt/6C5ZiVH925DiksoPe0LVuqUYacWbJCiM4FX1dTz+u5Drn3iKUGbrI47X/T3sdRwfsLvJg+X4lTLAcdzXbkiVZVfKvTK1Pcich/wZWC/MebTdls5sAwYDbwLfNMYc9AuP/xrrOqPLcC/GmNet4+ZA9xin3aBMeZBu30yxyo/rgD+3RhjvMZIxz2lm0TzguXrDiXcUG/Vd9/8Ap1Hmqz67uddy4DxhVnfPRgQBpQUc6g1HHNFDN3TyWeKfMhxFUsN5yf80pW2KJnryhWpOiekQrYzJKdrp/IA8DvgoYi2ecALxpiFIjLPfn8zMAsYa/9MARYDU2wBcStQibVY3yAiy20hsRi4DliHJVRmYpUU9hoj70g0L1g+cay++0qOvLcRigKUnvo5Bk2cRb9RhVHfPRiQHkkMh5QGufUr7jmn8nVFnC3iUcN5Cb9MqvDyRT0YzRVTRrom4LxiysiMj53tDMlpESrGmL+JyOio5ouBc+zXDwIvYk34FwMP2WWF14lImYgMs/uudurSi8hqYKaIvAgcZ4x5xW5/CJiNJVS8xshLEskL1j9Y1JVQL1e0f3zASp3SVd99qFXfffwFBAYWWH13YwmRxpZwXColrxWxAaYtXJN3LqXpJhU1XCZVePmiHozGsZvkwvsr2xmSM2lTOckYsw/AGLNPRJx6rhVApNWqzm7za69zafcboxsich3WTodRo+JL+Z0tvP4JEkktnk6s+u41NNWu6FbffeCkCwkVcH33cKehtKSYmv+ZHlf/uTPG9YhSdsgXj6NMk4oaLpMqvHxQD7qxYPb4rLkQR9IXKj+6bbpMEu1xY4y5G7gboLKyMu88diOrOzr+9a53nUE6DjfSvHk1TbXPWfXdS8s4buo3GDRhZp+p717f2MqYec/Gv7r1+Y6y6XGU6yy9hUqh/F2zrRLMpFD5QESG2TuIYcB+u70OiFQkjgD22u3nRLW/aLePcOnvN0avo0c+oyyIPmMMR+u2WPXdt78Mne30G/UZhnzxXyk9dSoS6F1BioJlfBSxtvbJ/AkNlnC5cVkttz+9xdOmsmjV9h42mGiyYV/Jhyy9hUgh/V0LKU3LcmAOsND+/ZeI9h+IyFIsQ/0hWyisAn4qIo6yfjow3xjTICJNIjIVWA9cDfw2xhh5QSIrnWzm/eo80kzzlrU016wk/NFuivoNsOu7zyR4fOYNh5nAzetq2sI1KTlBHGwJe04k8QiMbHgcecUg3P70loJYZeeKfEyHkwq9Lk2LiDyKtcs4QUTqsLy4FgKPicg1wG7gUrv7Cix34p1YLsXfBrCFx4+B1+x+dzhGe+AGjrkUr7R/8Bkj5/itdKrfa+hhsMvGqvbovh00167k8Jv/iwkfpWTYqRx/4Y12fff+GR8/kzhb+UhBXlqSuv3HayKJlVInWx5HXs/NwZZwl6NHb15l54q+7t2XCuny/rrC46PzXfoa4Pse57kPuM+lvRr4tEv7R25j5ANeK535T22iNSLdrZOuoTRYREsG0uBa9d3/Ztd334EE+zHgjHOsSoqfOCXt4+UKxyYVKcgPt8W38/OKIXBwm0jc9NROJoR4gh/TRbz54nrzKjsX5Gu8S29AI+ozhNeKptVDcLSmOXq+7cPdx+q7Hz1M8IRRlF9wvV3ffUBax8oX4lEhRufsCgUDfH1yRY9cXJG4TST54rrqVaLXDV1lx0++xrv0BlSopJFI1YtXWVcvjIkvSaHvOZz67rUrObrnDau++7jPM3DSLPpVnFEQQYpeVNXUxzVpOjuJaEFQeXI5ty3f0iPy2G8iyQfXVTfhdvhou2sEta6y4ydfFg29ETFZyD2TT1RWVprq6uq0nzeeanShYICj7R24hDakRLjxfZo3PkfzJqe++ycYOHFWn6rv7hS0iqUKipVGpRDcSL1KCseTBVlRvBCRDcaYypj9VKikBy9Po+gaGekKarTqu1fTVLuCI7vs+u6nnM2gSRf2yfruglXP3U+we+XxKkQKQTgq+UW8QkXVX2nCS/XSaQzvLLyo673zjx3t/RWvoGlvbqB54yqaNz5PR9MBAgPLGTztcgZ+ZgbFx+VvffdMM7ws1ENlUVYaxBg41BqmrDRI85FjaqH6xlZuWlZL9XsNOYlyzjT5oJpT+iYqVNJEIt4ibukantm4zzMzcbf67jvXQ2eHXd/9WkKnTMmb1Cm5KjAmHHMp9ppMpy1c0yOXmgEeXrebypPLdQJWlDShQiVNpOotcttXz+yRS8qq7/4CTbUrj9V3r7yYgRNnEhwyPO33kCq5UqQaYsdfeO0kDairraKkERUqaSJVbxGn378vraFt7zarZsmbf7fqu1ecweBpVzBg3DSkuCRj99BbqYjDq8kvnkNdbRUlfahQSSOp6LGbmpp4f/3TfPjH/0vLvreRkhADPzPdqqSYJ/Xdi4S0e655URYKcritvVt+rUCRUATddnPx7gadioNul6+utoqSPvqWi1AesmnTJm644QaGDx/ODTfcwKD+Qcpn/IAR33+I46ffkDcCBaxYmmwQCgb48oRhPfRpRcBlZ4+koiyEYO1Q4nWTnT2pgqumjuqRWFgD2hQlvehOJQccOXKExx9/nMWLF/PKK6/Qv39/Lr/8cq6//npuWtPM3kNHcn2JrmRDpjgpThat2t6jVkm407B224Gky/UumD2eypPL1dVW6XNk08VchUoW2bFjB3fddRf3338/DQ0NjBs3jjvvvJOrr76a8vJyAPb9+dkcX2VuiA7Ou2lZrWu/VO0f6mqr9DWyncZfhUqGCYfDLF++nCVLlvDXv/6V4uJivva1r3HDDTdwzjnn9EidEm+CwHxAIOF0NJE4iRzdEjBqQr/40UBHxY9sp/FXoZIh9uzZwx/+8Afuuece9u3bx6hRo1iwYAHf+c53GDZsmOdxiSQIzDXDy0Kce9pQ18DNQJHQ4WHVjydlSC4S+qUyOedqYi+kYlJKZsh2Gn8VKmmks7OT559/nsWLF/PMM89gjGHWrFncfffdzJo1i0AgdpBil/rnsdqsGcaTIRgQDh9t52E7bX9reyfGWLuP/sEiz7Tz8aaFz3ZCv1Qm51xO7IVWTEpJP32hRn3BsX//fu6//37uuusu3nnnHU488URuvvlmrrvuOkaPHp3Quapq6rlt+Za8FChOHrPolCct4c5uu48x87ztQnsbW1m0ajsQe8LNpv0jlck5lxO7FpNSYpHtXX9BuBSLyEwR2S4iO0VkXjbGNMbwt7/9jSuvvJIRI0Ywb948Tj75ZJYuXcqePXv46U9/mpRAmf/UZs90Lblm6ieHMLwsxMGWcA/PLGcSBf8VkFMDfv5Tm6mqqc/k5SZEKpNzLid2r7+12p4Uh9mTKvjZJeOTcsVPhl6/UxGRAPB74AKgDnhNRJYbY7ZmYrxDhw7x0EMPsWTJErZu3UpZWRnf+973+O53v8vpp5+e0rmzWac+GV5+u8HXrdiZROOxC8W7ks+WrSIVFUEunQq0mJQSD9nc9RfCTuVsYKcxZpcxpg1YClyc7kG2bdvGtddey/Dhw/m3f/s3Bg4cyH333Ud9fT2/+tWvUhYoELsWiB8BEb41dRSBOApxJfulx9LIOZNo9MrIi1greWfnVt/YmvEdztwZ4wgFu9u8oifnqpp6pi1cw5h5zzJt4Zqu64jn2EyR7VWoosSi1+9UgApgT8T7OmBKZAcRuQ64DmDUqFFJDbJr1y4eeeQRrrzySq6//nomT56c5OW6U1VTn1KW3w5jBQbG49472E4Jn041W/QkGrky8qo1E2sln01bRSzHgHiM8bly69XYGyWfKASh4rYY7jazGmPuBu4Gq0hXMoPMmDGDvXv3MnhwZiopLlq1PeWI9frGVk/BFNl+sCVMMOC/o4k+j5/AG1Ia5NavnOk5sSWrosm2rcJvco4l4HRiVxSLQlB/1QEjI96PAPame5BAIJAxgQLpmygNPaWsm0AIdxiKPOSKW/9TThzQQ8XjcCTc6XtNyapo8skIrV5WihIfhSBUXgPGisgYESkBLgeW5/iaEiadE6WBbhO41w6j09BDUHjtSHbuP8zXJ1e42mwiPb+8mD2pgpfmncc7Cy/ipXnnxbWqz6WtIpp8EnCKks/0eqFijGkHfgCsAt4EHjPGbMntVSXO3BnjfI3aiVBRFuo2gXvVG3F2DM7nARFPAWSAtdsO0Olhs8nEij2fjND5JOAUJZ8pBJsKxpgVwIpcX0cqzJ5UwY0eSRQTwW2i87NpOBN0PKlhHCN0Nt1n88VWkWtjvKL0FgpCqBQKFUkkkywNFjFkQD/fiS7WhBhvfIxzXF+Ni8gXAaco+YwKlTxi7oxxPerUx6I13MnWOOqL+E2I8aiuonc2umJXFMUNFSp5hDMx37Z8S9wxJOlQO3mptJxcX9GCQ1fsiqJ4oUIlz4icsG+p2syj6/fQYQwilmdW5CYmXWonL5WWRmYripIovd77q5CpPLmcTwzujwDDB4e4csqojHhC5ZOXlaIovRsx+ZhjPYNUVlaa6urqXF9GTKLTgoDuHhRFyR0issEYUxmrn6q/ckSs7LtafElRlN6ICpUccEvVZh5et7sr0NAtOaGmBVEUpTeiNpUsU1VT302gOESnOuktaUG80sEritI3UaGSZfyyEUfuQnpDWpBs1jtRFKV3oEIly/ipryJ3ia0VbAAAB3tJREFUIb3BI8vP7qMoSt9EbSpZxivQUKDHLiTfgwzV7qMoSjS6U8kybmotAa6aOiqvBYgbvcXuoyhK9lChkmXc1Fp3XjaRBbPH5/rSEqY32H0URckuqv7KAfmu1ooXTS6pKEo0KlSUlCgUAakoSnpISf0lIpeKyBYR6RSRyqjP5ovIThHZLiIzItpn2m07RWReRPsYEVkvIjtEZJldGhgR6We/32l/PjrWGIWMxoUoipLPpGpTeQO4BPhbZKOInIFVK/5MYCbw/0QkICIB4PfALOAM4Aq7L8DPgTuNMWOBg8A1dvs1wEFjzCnAnXY/zzFSvJ+8RuNCFEXJd1ISKsaYN40xbkEJFwNLjTFHjTHvADuBs+2fncaYXcaYNmApcLGICHAe8IR9/IPA7IhzPWi/fgI43+7vNUbBonEhiqLkO5ny/qoA9kS8r7PbvNqPBxqNMe1R7d3OZX9+yO7vda4eiMh1IlItItUHDhxI4bZyi8aFKIqS78QUKiLyVxF5w+XnYr/DXNpMEu3JnKtnozF3G2MqjTGVQ4cOdevSK9C4EEVR8p2Y3l/GmC8lcd46YGTE+xHAXvu1W/uHQJmIFNu7kcj+zrnqRKQYGAw0xBijIPGq0KhxIYqi5AuZUn8tBy63PbfGAGOBV4HXgLG2p1cJlqF9ubEqha0FvmEfPwf4S8S55tivvwGssft7jVGw9IZ8YIqi9G1SilMRka8BvwWGAs+KSK0xZoYxZouIPAZsBdqB7xtjOuxjfgCsAgLAfcaYLfbpbgaWisgCoAa4126/F/ijiOzE2qFcDuA3RiGjcSGKouQzWk5YURRFiUm85YQ195eiKIqSNlSoKIqiKGlDhYqiKIqSNlSoKIqiKGmjzxnqReQA8F6Sh5+AFVPTl9B77hvoPfcNUrnnk40xMaPH+5xQSQURqY7H+6GQ0HvuG+g99w2ycc+q/lIURVHShgoVRVEUJW2oUEmMu3N9ATlA77lvoPfcN8j4PatNRVEURUkbulNRFEVR0oYKFUVRFCVtqFCJExGZKSLbRWSniMzL9fXEg4jcJyL7ReSNiLZyEVktIjvs30PsdhGR39j3t0lEzoo4Zo7df4eIzIlonywim+1jfmOXefYcIwv3O1JE1orImyKyRUT+vQ/cc38ReVVENtr3fLvdPkZE1tvXs8wuNYFdKmKZff3rRWR0xLnm2+3bRWRGRLvrs+81RrYQkYCI1IjIM37XUyj3LCLv2s9erYhU223592wbY/Qnxg9Wmv63gU8CJcBG4IxcX1cc1/0F4CzgjYi2/w+YZ7+eB/zcfn0hsBKrouZUYL3dXg7ssn8PsV8PsT97FfisfcxKYJbfGFm432HAWfbrQcBbwBkFfs8CDLRfB4H19r08Blxuty8BbrBffw9YYr++HFhmvz7Dfq77AWPs5z3g9+x7jZHF5/uHwCPAM37XUyj3DLwLnBDVlnfPdtYegN78Y/+hV0W8nw/Mz/V1xXnto+kuVLYDw+zXw4Dt9uu7gCui+wFXAHdFtN9ltw0DtkW0d/XzGiMH9/4X4IK+cs9AKfA6MAUraro4+vnFqmX0Wft1sd1Pop9pp5/Xs28f4zpGlu51BPACcB7wjN/1FNA9v0tPoZJ3z7aqv+KjAtgT8b7ObuuNnGSM2Qdg/z7Rbve6R7/2Opd2vzGyhq3imIS1ci/oe7bVQLXAfmA11iq70ViluaOvs+ve7M8PAceT+N/ieJ8xssGvgP8EOu33ftdTKPdsgOdFZIOIXGe35d2znVLlxz6EuLQVmi+21z0m2p5zRGQg8CRwozHmY1s17NrVpa3X3bOxKp5OFJEy4M/A6W7d7N+J3pvbwjOnfwsR+TKw3xizQUTOcZp9rqfX37PNNGPMXhE5EVgtItt8+ubs2dadSnzUASMj3o8A9uboWlLlAxEZBmD/3m+3e92jX/sIl3a/MTKOiASxBMrDxpinYlxPQdyzgzGmEXgRS4deJiLOojHyOrvuzf58MFaZ7kT/Fh/6jJFppgFfFZF3gaVYKrBf+VxPIdwzxpi99u/9WIuHs8nDZ1uFSny8Boy1PT9KsIx9y3N8TcmyHHA8PuZg2R2c9qttr5GpwCF7q7sKmC4iQ2yvj+lYeuR9QJOITLW9RK6OOpfbGBnFvo57gTeNMb+M+KiQ73movUNBRELAl4A3gbXAN1yuJ/I6vwGsMZayfDlwue0pNQYYi2W4dX327WO8xsgoxpj5xpgRxpjR9vWsMcZc5XM9vf6eRWSAiAxyXmM9k2+Qj892toxMvf0Hy5viLSx99X/n+nrivOZHgX1AGGslcg2WXvgFYIf9u9zuK8Dv7fvbDFRGnOc7wE7759sR7ZX2g/028DuOZWhwHSML9/t5rC37JqDW/rmwwO/5M0CNfc9vAP9jt38Sa4LcCTwO9LPb+9vvd9qffzLiXP9t39d2bM8fv2ffa4wsP+PncMz7q2Dv2R53o/2zxbmmfHy2NU2LoiiKkjZU/aUoiqKkDRUqiqIoStpQoaIoiqKkDRUqiqIoStpQoaIoiqKkDRUqiqIoStpQoaIoiqKkjf8fUlameu5kgr0AAAAASUVORK5CYII=\n",
      "text/plain": [
       "<figure size="" 432x288="" with="" 1="" axes="">"
      ]
     },
     "metadata": {
      "needs_background": "light"
     },
     "output_type": "display_data"
    }
   ],
   "source": [
    "plt.scatter(Y_test,y_pred)\n",
    "plt.plot([0,500000],[0,500000],color='black')"
   ]
  },
  {
   "cell_type": "code",
   "execution_count": null,
   "metadata": {},
   "outputs": [],
   "source": []
  }
 ],
 "metadata": {
  "kernelspec": {
   "display_name": "Python 3",
   "language": "python",
   "name": "python3"
  },
  "language_info": {
   "codemirror_mode": {
    "name": "ipython",
    "version": 3
   },
   "file_extension": ".py",
   "mimetype": "text/x-python",
   "name": "python",
   "nbconvert_exporter": "python",
   "pygments_lexer": "ipython3",
   "version": "3.7.4"
  }
 },
 "nbformat": 4,
 "nbformat_minor": 2
}
</figure></matplotlib.lines.line2d></figure></matplotlib.axes._subplots.axessubplot></figure></matplotlib.axes._subplots.axessubplot></figure></matplotlib.axes._subplots.axessubplot></body></html>