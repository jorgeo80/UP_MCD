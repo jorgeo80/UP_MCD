{
 "cells": [
  {
   "cell_type": "markdown",
   "metadata": {},
   "source": [
    "# Regularización\n",
    "Este es un ejemplo del uso de la regularización en modelos de sklearn"
   ]
  },
  {
   "cell_type": "markdown",
   "metadata": {},
   "source": [
    "### Importación de librerías"
   ]
  },
  {
   "cell_type": "code",
   "execution_count": 1,
   "metadata": {},
   "outputs": [],
   "source": [
    "import numpy as np\n",
    "import matplotlib.pyplot as plt"
   ]
  },
  {
   "cell_type": "markdown",
   "metadata": {},
   "source": [
    "### Datos"
   ]
  },
  {
   "cell_type": "code",
   "execution_count": 2,
   "metadata": {
    "scrolled": true
   },
   "outputs": [
    {
     "data": {
      "text/plain": [
       "<matplotlib.collections.PathCollection at 0x7f2680eefc50>"
      ]
     },
     "execution_count": 2,
     "metadata": {},
     "output_type": "execute_result"
    },
    {
     "data": {
      "image/png": "[encoded data removed]",
      "text/plain": [
       "<Figure size 432x288 with 1 Axes>"
      ]
     },
     "metadata": {
      "needs_background": "light"
     },
     "output_type": "display_data"
    }
   ],
   "source": [
    "x = np.array([0.5, 0.15, 0.30, 0.25, 0.35, 0.45, 0.47, 0.55]).reshape((-1, 1))\n",
    "y = np.array([5, 20, 18, 14, 32, 22, 32, 38])\n",
    "\n",
    "plt.scatter(x,y)"
   ]
  },
  {
   "cell_type": "markdown",
   "metadata": {},
   "source": [
    "### Regresión lineal sin regularización"
   ]
  },
  {
   "cell_type": "code",
   "execution_count": 3,
   "metadata": {},
   "outputs": [
    {
     "name": "stdout",
     "output_type": "stream",
     "text": [
      "13.813835770528684\n",
      "23.340832395950503\n"
     ]
    }
   ],
   "source": [
    "from sklearn.linear_model import LinearRegression\n",
    "\n",
    "model_RL = LinearRegression()\n",
    "model_RL.fit(x,y)\n",
    "\n",
    "print(model_RL.intercept_)\n",
    "print(model_RL.coef_[0])"
   ]
  },
  {
   "cell_type": "markdown",
   "metadata": {},
   "source": [
    "### Regularización L1 (LASSO)"
   ]
  },
  {
   "cell_type": "code",
   "execution_count": 5,
   "metadata": {},
   "outputs": [
    {
     "name": "stdout",
     "output_type": "stream",
     "text": [
      "16.078552680914886\n",
      "17.34158230221222\n"
     ]
    }
   ],
   "source": [
    "# Regularización con Lasso\n",
    "from sklearn.linear_model import Lasso\n",
    "model_l1 = Lasso(alpha = 0.1)\n",
    "model_l1.fit(x, y)\n",
    "\n",
    "print(model_l1.intercept_)\n",
    "print(model_l1.coef_[0])"
   ]
  },
  {
   "cell_type": "markdown",
   "metadata": {},
   "source": [
    "### Regularización L2 (Ridge)"
   ]
  },
  {
   "cell_type": "code",
   "execution_count": 6,
   "metadata": {},
   "outputs": [
    {
     "name": "stdout",
     "output_type": "stream",
     "text": [
      "17.589779301478465\n",
      "13.338332976215982\n"
     ]
    }
   ],
   "source": [
    "# Regularización con Ridge\n",
    "from sklearn.linear_model import Ridge\n",
    "model_l2 = Ridge(alpha = 0.1)\n",
    "model_l2.fit(x, y)\n",
    "\n",
    "print(model_l2.intercept_)\n",
    "print(model_l2.coef_[0])"
   ]
  },
  {
   "cell_type": "code",
   "execution_count": 8,
   "metadata": {},
   "outputs": [
    {
     "name": "stdout",
     "output_type": "stream",
     "text": [
      "0.08796529841973189\n",
      "0.08215400727398847\n",
      "0.07181071475333844\n"
     ]
    },
    {
     "data": {
      "image/png": "[encoded data removed]",
      "text/plain": [
       "<Figure size 432x288 with 1 Axes>"
      ]
     },
     "metadata": {
      "needs_background": "light"
     },
     "output_type": "display_data"
    }
   ],
   "source": [
    "y_rl = model_RL.predict(x)\n",
    "y_l1 = model_l1.predict(x)\n",
    "y_l2 = model_l2.predict(x)\n",
    "\n",
    "plt.plot(x,y_rl,marker='o',color='black')\n",
    "plt.plot(x,y_l1,marker='o',color='red')\n",
    "plt.plot(x,y_l2,marker='o',color='blue')\n",
    "plt.scatter(x,y)\n",
    "\n",
    "print(model_RL.score(x,y))\n",
    "print(model_l1.score(x,y))\n",
    "print(model_l2.score(x,y))"
   ]
  },
  {
   "cell_type": "code",
   "execution_count": null,
   "metadata": {},
   "outputs": [],
   "source": []
  }
 ],
 "metadata": {
  "kernelspec": {
   "display_name": "Python 3",
   "language": "python",
   "name": "python3"
  },
  "language_info": {
   "codemirror_mode": {
    "name": "ipython",
    "version": 3
   },
   "file_extension": ".py",
   "mimetype": "text/x-python",
   "name": "python",
   "nbconvert_exporter": "python",
   "pygments_lexer": "ipython3",
   "version": "3.7.4"
  }
 },
 "nbformat": 4,
 "nbformat_minor": 2
}
