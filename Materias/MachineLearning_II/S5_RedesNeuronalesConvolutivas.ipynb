{
  "nbformat": 4,
  "nbformat_minor": 0,
  "metadata": {
    "colab": {
      "name": "S4-RedesNeuronalesConvolutivas.ipynb",
      "provenance": []
    },
    "kernelspec": {
      "name": "python3",
      "display_name": "Python 3"
    },
    "accelerator": "GPU"
  },
  "cells": [
    {
      "cell_type": "markdown",
      "metadata": {
        "id": "mOWEqcSGkJ3p",
        "colab_type": "text"
      },
      "source": [
        "# Redes Neuronales Convolucionales"
      ]
    },
    {
      "cell_type": "code",
      "metadata": {
        "id": "fGfsPmYuj9no",
        "colab_type": "code",
        "colab": {}
      },
      "source": [
        "import keras\n",
        "from keras.datasets import mnist\n",
        "from keras.models import Sequential\n",
        "from keras.layers import Dense, Flatten\n",
        "from keras.layers import Conv2D, MaxPooling2D # --> Parte Convolituva"
      ],
      "execution_count": 0,
      "outputs": []
    },
    {
      "cell_type": "markdown",
      "metadata": {
        "id": "WVse9LEhsc4l",
        "colab_type": "text"
      },
      "source": [
        "Bajamos la base de **MNIST**"
      ]
    },
    {
      "cell_type": "code",
      "metadata": {
        "id": "OPHtEQLUrvIz",
        "colab_type": "code",
        "colab": {}
      },
      "source": [
        "(X_train, y_train), (X_test, y_test) = mnist.load_data()"
      ],
      "execution_count": 0,
      "outputs": []
    },
    {
      "cell_type": "markdown",
      "metadata": {
        "id": "TUjxq5ULs3Os",
        "colab_type": "text"
      },
      "source": [
        "Imrimimos la etiqueta de **Y** y los valores de **X**"
      ]
    },
    {
      "cell_type": "code",
      "metadata": {
        "id": "Q9H17vXIsAq1",
        "colab_type": "code",
        "colab": {
          "base_uri": "https://localhost:8080/",
          "height": 299
        },
        "outputId": "5ba87f73-9977-4889-80ec-89bd6461bbe2"
      },
      "source": [
        "import pylab as plt\n",
        "print(X_train.shape)\n",
        "\n",
        "n = 1\n",
        "plt.imshow(X_train[n])\n",
        "print(y_train[n])"
      ],
      "execution_count": 107,
      "outputs": [
        {
          "output_type": "stream",
          "text": [
            "(60000, 28, 28)\n",
            "0\n"
          ],
          "name": "stdout"
        },
        {
          "output_type": "display_data",
          "data": {
            "image/png": "[encoded data removed]",
            "text/plain": [
              "<Figure size 432x288 with 1 Axes>"
            ]
          },
          "metadata": {
            "tags": [],
            "needs_background": "light"
          }
        }
      ]
    },
    {
      "cell_type": "markdown",
      "metadata": {
        "id": "EH92J3wvtN7z",
        "colab_type": "text"
      },
      "source": [
        "### Prepocesamiento de los Datos\n",
        "\n",
        "1. Hacemos una trasformación generando una dimensión adicional para que funcione con imagenes a color"
      ]
    },
    {
      "cell_type": "code",
      "metadata": {
        "id": "EsPidQ4gsYGf",
        "colab_type": "code",
        "colab": {}
      },
      "source": [
        "X_train = X_train.reshape(X_train.shape[0], 28, 28, 1)\n",
        "X_test = X_test.reshape(X_test.shape[0], 28, 28, 1)\n",
        "input_shape = (28, 28, 1)"
      ],
      "execution_count": 0,
      "outputs": []
    },
    {
      "cell_type": "code",
      "metadata": {
        "id": "FVYgDM1XtBR7",
        "colab_type": "code",
        "colab": {
          "base_uri": "https://localhost:8080/",
          "height": 34
        },
        "outputId": "cd219be7-1747-4ed5-d8ad-fef63b6d8404"
      },
      "source": [
        "X_train.shape"
      ],
      "execution_count": 109,
      "outputs": [
        {
          "output_type": "execute_result",
          "data": {
            "text/plain": [
              "(60000, 28, 28, 1)"
            ]
          },
          "metadata": {
            "tags": []
          },
          "execution_count": 109
        }
      ]
    },
    {
      "cell_type": "markdown",
      "metadata": {
        "id": "4XeXlflCuyVA",
        "colab_type": "text"
      },
      "source": [
        "2. Sacamos una muestra de 3K datos, para reducir el tema de computo"
      ]
    },
    {
      "cell_type": "code",
      "metadata": {
        "id": "BwNTUrZUuJp0",
        "colab_type": "code",
        "colab": {
          "base_uri": "https://localhost:8080/",
          "height": 51
        },
        "outputId": "85893523-b8e9-4a46-bbcd-861ed0b0f5d2"
      },
      "source": [
        "data_slice = 20000\n",
        "print(X_train.shape)\n",
        "X_train = X_train[:data_slice, :, :, :]\n",
        "y_train = y_train[:data_slice]\n",
        "X_test = X_test[:data_slice, :, :, :]\n",
        "y_test = y_test[:data_slice]\n",
        "print(X_train.shape)"
      ],
      "execution_count": 110,
      "outputs": [
        {
          "output_type": "stream",
          "text": [
            "(60000, 28, 28, 1)\n",
            "(20000, 28, 28, 1)\n"
          ],
          "name": "stdout"
        }
      ]
    },
    {
      "cell_type": "markdown",
      "metadata": {
        "id": "4wIoa1eSu88O",
        "colab_type": "text"
      },
      "source": [
        "3. Escalamos de 0 a 1"
      ]
    },
    {
      "cell_type": "code",
      "metadata": {
        "id": "uqReyCDVuxaa",
        "colab_type": "code",
        "colab": {}
      },
      "source": [
        "X_train = X_train.astype('float32')\n",
        "X_test = X_test.astype('float32')\n",
        "# Escalamos\n",
        "X_train /= 255\n",
        "X_test /= 255"
      ],
      "execution_count": 0,
      "outputs": []
    },
    {
      "cell_type": "markdown",
      "metadata": {
        "id": "TFIX762tvsnb",
        "colab_type": "text"
      },
      "source": [
        "4. Hacemos un One Hot Encoding"
      ]
    },
    {
      "cell_type": "code",
      "metadata": {
        "id": "4CMLYZi6voQ_",
        "colab_type": "code",
        "colab": {}
      },
      "source": [
        "y_train = keras.utils.to_categorical(y_train, 10)\n",
        "y_test = keras.utils.to_categorical(y_test, 10)"
      ],
      "execution_count": 0,
      "outputs": []
    },
    {
      "cell_type": "markdown",
      "metadata": {
        "id": "XEGc9ja3wo4B",
        "colab_type": "text"
      },
      "source": [
        "## Creamos el modelo de Redes Neuronales Convolutivas\n",
        "\n",
        "0. Incializamos el modelo"
      ]
    },
    {
      "cell_type": "code",
      "metadata": {
        "id": "tZ6OT1_PwpLu",
        "colab_type": "code",
        "colab": {}
      },
      "source": [
        "modelo = Sequential()\n",
        "# Parte Convolutiva\n",
        "modelo.add(Conv2D(256, kernel_size=(7,7), activation='relu', input_shape=input_shape))\n",
        "modelo.add(Conv2D(128, kernel_size=(6,6), activation='relu'))\n",
        "modelo.add(Conv2D(64, kernel_size=(5,5), activation='relu'))\n",
        "modelo.add(Conv2D(32, kernel_size=(4,4), activation='relu'))\n",
        "modelo.add(Conv2D(16, kernel_size=(3,3), activation='relu'))\n",
        "modelo.add(MaxPooling2D(pool_size=(2,2)))"
      ],
      "execution_count": 0,
      "outputs": []
    },
    {
      "cell_type": "markdown",
      "metadata": {
        "id": "Jo0tSo_pxx1c",
        "colab_type": "text"
      },
      "source": [
        "1. Hacemos el modelo unidimensional"
      ]
    },
    {
      "cell_type": "code",
      "metadata": {
        "id": "4Uv9MozYxxBl",
        "colab_type": "code",
        "colab": {}
      },
      "source": [
        "# Lo hacemos un modelo unidimensional\n",
        "modelo.add(Flatten())\n",
        "modelo.add(Dense(128, activation='relu')) # unidades, activacion\n",
        "modelo.add(Dense(64, activation='relu')) # unidades, activacion\n",
        "modelo.add(Dense(32, activation='relu')) # unidades, activacion\n",
        "modelo.add(Dense(10, activation='softmax')) # En la capa de salida damos 10 salidas usando softmax"
      ],
      "execution_count": 0,
      "outputs": []
    },
    {
      "cell_type": "markdown",
      "metadata": {
        "id": "0B9OHIOSyeri",
        "colab_type": "text"
      },
      "source": [
        "2. Compilamos el modelo"
      ]
    },
    {
      "cell_type": "code",
      "metadata": {
        "id": "EuNzweAcyX8I",
        "colab_type": "code",
        "colab": {}
      },
      "source": [
        "modelo.compile(loss = keras.losses.categorical_crossentropy, optimizer=keras.optimizers.Adadelta(), metrics=['accuracy'])"
      ],
      "execution_count": 0,
      "outputs": []
    },
    {
      "cell_type": "markdown",
      "metadata": {
        "id": "OorcI8tAzCYY",
        "colab_type": "text"
      },
      "source": [
        "3. Ajustamos el modelo"
      ]
    },
    {
      "cell_type": "code",
      "metadata": {
        "id": "cSMBu77ry21F",
        "colab_type": "code",
        "colab": {
          "base_uri": "https://localhost:8080/",
          "height": 1000
        },
        "outputId": "7387ac65-faab-4198-9c8c-729e26727df2"
      },
      "source": [
        "modelo.fit(X_train, y_train, batch_size=250, epochs=100, #verbose=0, \n",
        "           validation_data=(X_test, y_test))"
      ],
      "execution_count": 116,
      "outputs": [
        {
          "output_type": "stream",
          "text": [
            "Train on 20000 samples, validate on 10000 samples\n",
            "Epoch 1/100\n",
            "20000/20000 [==============================] - 4s 198us/step - loss: 1.5562 - accuracy: 0.4854 - val_loss: 0.4431 - val_accuracy: 0.8723\n",
            "Epoch 2/100\n",
            "20000/20000 [==============================] - 3s 162us/step - loss: 0.3782 - accuracy: 0.8885 - val_loss: 0.1963 - val_accuracy: 0.9390\n",
            "Epoch 3/100\n",
            "20000/20000 [==============================] - 3s 162us/step - loss: 0.1657 - accuracy: 0.9512 - val_loss: 0.1036 - val_accuracy: 0.9682\n",
            "Epoch 4/100\n",
            "20000/20000 [==============================] - 3s 162us/step - loss: 0.1219 - accuracy: 0.9631 - val_loss: 0.1021 - val_accuracy: 0.9672\n",
            "Epoch 5/100\n",
            "20000/20000 [==============================] - 3s 162us/step - loss: 0.0916 - accuracy: 0.9727 - val_loss: 0.0778 - val_accuracy: 0.9758\n",
            "Epoch 6/100\n",
            "20000/20000 [==============================] - 3s 163us/step - loss: 0.0812 - accuracy: 0.9769 - val_loss: 0.0680 - val_accuracy: 0.9787\n",
            "Epoch 7/100\n",
            "20000/20000 [==============================] - 3s 163us/step - loss: 0.0606 - accuracy: 0.9814 - val_loss: 0.0590 - val_accuracy: 0.9805\n",
            "Epoch 8/100\n",
            "20000/20000 [==============================] - 3s 162us/step - loss: 0.0563 - accuracy: 0.9837 - val_loss: 0.0916 - val_accuracy: 0.9700\n",
            "Epoch 9/100\n",
            "20000/20000 [==============================] - 3s 163us/step - loss: 0.0458 - accuracy: 0.9865 - val_loss: 0.0604 - val_accuracy: 0.9827\n",
            "Epoch 10/100\n",
            "20000/20000 [==============================] - 3s 163us/step - loss: 0.0414 - accuracy: 0.9865 - val_loss: 0.0653 - val_accuracy: 0.9790\n",
            "Epoch 11/100\n",
            "20000/20000 [==============================] - 3s 162us/step - loss: 0.0339 - accuracy: 0.9902 - val_loss: 0.0856 - val_accuracy: 0.9774\n",
            "Epoch 12/100\n",
            "20000/20000 [==============================] - 3s 161us/step - loss: 0.0362 - accuracy: 0.9887 - val_loss: 0.0507 - val_accuracy: 0.9863\n",
            "Epoch 13/100\n",
            "20000/20000 [==============================] - 3s 161us/step - loss: 0.0239 - accuracy: 0.9929 - val_loss: 0.0512 - val_accuracy: 0.9856\n",
            "Epoch 14/100\n",
            "20000/20000 [==============================] - 3s 161us/step - loss: 0.0228 - accuracy: 0.9925 - val_loss: 0.0425 - val_accuracy: 0.9883\n",
            "Epoch 15/100\n",
            "20000/20000 [==============================] - 3s 161us/step - loss: 0.0219 - accuracy: 0.9934 - val_loss: 0.0465 - val_accuracy: 0.9865\n",
            "Epoch 16/100\n",
            "20000/20000 [==============================] - 3s 161us/step - loss: 0.0168 - accuracy: 0.9948 - val_loss: 0.0744 - val_accuracy: 0.9795\n",
            "Epoch 17/100\n",
            "20000/20000 [==============================] - 3s 161us/step - loss: 0.0178 - accuracy: 0.9944 - val_loss: 0.0516 - val_accuracy: 0.9860\n",
            "Epoch 18/100\n",
            "20000/20000 [==============================] - 3s 162us/step - loss: 0.0149 - accuracy: 0.9952 - val_loss: 0.0608 - val_accuracy: 0.9843\n",
            "Epoch 19/100\n",
            "20000/20000 [==============================] - 3s 161us/step - loss: 0.0123 - accuracy: 0.9960 - val_loss: 0.0644 - val_accuracy: 0.9836\n",
            "Epoch 20/100\n",
            "20000/20000 [==============================] - 3s 161us/step - loss: 0.0073 - accuracy: 0.9977 - val_loss: 0.1209 - val_accuracy: 0.9734\n",
            "Epoch 21/100\n",
            "20000/20000 [==============================] - 3s 163us/step - loss: 0.0236 - accuracy: 0.9920 - val_loss: 0.0468 - val_accuracy: 0.9866\n",
            "Epoch 22/100\n",
            "20000/20000 [==============================] - 3s 162us/step - loss: 0.0055 - accuracy: 0.9981 - val_loss: 0.0519 - val_accuracy: 0.9881\n",
            "Epoch 23/100\n",
            "20000/20000 [==============================] - 3s 163us/step - loss: 0.0105 - accuracy: 0.9968 - val_loss: 0.0696 - val_accuracy: 0.9837\n",
            "Epoch 24/100\n",
            "20000/20000 [==============================] - 3s 162us/step - loss: 0.0074 - accuracy: 0.9973 - val_loss: 0.0661 - val_accuracy: 0.9847\n",
            "Epoch 25/100\n",
            "20000/20000 [==============================] - 3s 163us/step - loss: 0.0074 - accuracy: 0.9973 - val_loss: 0.0648 - val_accuracy: 0.9854\n",
            "Epoch 26/100\n",
            "20000/20000 [==============================] - 3s 162us/step - loss: 0.0046 - accuracy: 0.9988 - val_loss: 0.0597 - val_accuracy: 0.9877\n",
            "Epoch 27/100\n",
            "20000/20000 [==============================] - 3s 162us/step - loss: 0.0062 - accuracy: 0.9982 - val_loss: 0.0737 - val_accuracy: 0.9839\n",
            "Epoch 28/100\n",
            "20000/20000 [==============================] - 3s 163us/step - loss: 0.0028 - accuracy: 0.9991 - val_loss: 0.0723 - val_accuracy: 0.9858\n",
            "Epoch 29/100\n",
            "20000/20000 [==============================] - 3s 162us/step - loss: 0.0081 - accuracy: 0.9972 - val_loss: 0.1171 - val_accuracy: 0.9770\n",
            "Epoch 30/100\n",
            "20000/20000 [==============================] - 3s 162us/step - loss: 0.0088 - accuracy: 0.9973 - val_loss: 0.0592 - val_accuracy: 0.9884\n",
            "Epoch 31/100\n",
            "20000/20000 [==============================] - 3s 163us/step - loss: 0.0013 - accuracy: 0.9997 - val_loss: 0.0652 - val_accuracy: 0.9877\n",
            "Epoch 32/100\n",
            "20000/20000 [==============================] - 3s 162us/step - loss: 0.0118 - accuracy: 0.9962 - val_loss: 0.0559 - val_accuracy: 0.9880\n",
            "Epoch 33/100\n",
            "20000/20000 [==============================] - 3s 161us/step - loss: 0.0016 - accuracy: 0.9996 - val_loss: 0.0583 - val_accuracy: 0.9894\n",
            "Epoch 34/100\n",
            "20000/20000 [==============================] - 3s 161us/step - loss: 2.5122e-04 - accuracy: 0.9999 - val_loss: 0.0612 - val_accuracy: 0.9896\n",
            "Epoch 35/100\n",
            "20000/20000 [==============================] - 3s 162us/step - loss: 4.6190e-05 - accuracy: 1.0000 - val_loss: 0.0643 - val_accuracy: 0.9893\n",
            "Epoch 36/100\n",
            "20000/20000 [==============================] - 3s 162us/step - loss: 2.2673e-05 - accuracy: 1.0000 - val_loss: 0.0659 - val_accuracy: 0.9898\n",
            "Epoch 37/100\n",
            "20000/20000 [==============================] - 3s 163us/step - loss: 1.5141e-05 - accuracy: 1.0000 - val_loss: 0.0674 - val_accuracy: 0.9898\n",
            "Epoch 38/100\n",
            "20000/20000 [==============================] - 3s 162us/step - loss: 1.1874e-05 - accuracy: 1.0000 - val_loss: 0.0686 - val_accuracy: 0.9898\n",
            "Epoch 39/100\n",
            "20000/20000 [==============================] - 3s 162us/step - loss: 9.8595e-06 - accuracy: 1.0000 - val_loss: 0.0696 - val_accuracy: 0.9897\n",
            "Epoch 40/100\n",
            "20000/20000 [==============================] - 3s 163us/step - loss: 8.4007e-06 - accuracy: 1.0000 - val_loss: 0.0705 - val_accuracy: 0.9897\n",
            "Epoch 41/100\n",
            "20000/20000 [==============================] - 3s 162us/step - loss: 7.3120e-06 - accuracy: 1.0000 - val_loss: 0.0712 - val_accuracy: 0.9899\n",
            "Epoch 42/100\n",
            "20000/20000 [==============================] - 3s 160us/step - loss: 6.4594e-06 - accuracy: 1.0000 - val_loss: 0.0720 - val_accuracy: 0.9898\n",
            "Epoch 43/100\n",
            "20000/20000 [==============================] - 3s 161us/step - loss: 5.7827e-06 - accuracy: 1.0000 - val_loss: 0.0726 - val_accuracy: 0.9897\n",
            "Epoch 44/100\n",
            "20000/20000 [==============================] - 3s 161us/step - loss: 5.2515e-06 - accuracy: 1.0000 - val_loss: 0.0732 - val_accuracy: 0.9897\n",
            "Epoch 45/100\n",
            "20000/20000 [==============================] - 3s 162us/step - loss: 4.7680e-06 - accuracy: 1.0000 - val_loss: 0.0737 - val_accuracy: 0.9897\n",
            "Epoch 46/100\n",
            "20000/20000 [==============================] - 3s 163us/step - loss: 4.3822e-06 - accuracy: 1.0000 - val_loss: 0.0742 - val_accuracy: 0.9898\n",
            "Epoch 47/100\n",
            "20000/20000 [==============================] - 3s 163us/step - loss: 4.0795e-06 - accuracy: 1.0000 - val_loss: 0.0747 - val_accuracy: 0.9898\n",
            "Epoch 48/100\n",
            "20000/20000 [==============================] - 3s 163us/step - loss: 3.7724e-06 - accuracy: 1.0000 - val_loss: 0.0752 - val_accuracy: 0.9898\n",
            "Epoch 49/100\n",
            "20000/20000 [==============================] - 3s 162us/step - loss: 3.5478e-06 - accuracy: 1.0000 - val_loss: 0.0756 - val_accuracy: 0.9898\n",
            "Epoch 50/100\n",
            "20000/20000 [==============================] - 3s 162us/step - loss: 3.3244e-06 - accuracy: 1.0000 - val_loss: 0.0760 - val_accuracy: 0.9898\n",
            "Epoch 51/100\n",
            "20000/20000 [==============================] - 3s 162us/step - loss: 3.1343e-06 - accuracy: 1.0000 - val_loss: 0.0764 - val_accuracy: 0.9898\n",
            "Epoch 52/100\n",
            "20000/20000 [==============================] - 3s 162us/step - loss: 2.9613e-06 - accuracy: 1.0000 - val_loss: 0.0767 - val_accuracy: 0.9898\n",
            "Epoch 53/100\n",
            "20000/20000 [==============================] - 3s 163us/step - loss: 2.8110e-06 - accuracy: 1.0000 - val_loss: 0.0771 - val_accuracy: 0.9898\n",
            "Epoch 54/100\n",
            "20000/20000 [==============================] - 3s 162us/step - loss: 2.6643e-06 - accuracy: 1.0000 - val_loss: 0.0774 - val_accuracy: 0.9899\n",
            "Epoch 55/100\n",
            "20000/20000 [==============================] - 3s 162us/step - loss: 2.5354e-06 - accuracy: 1.0000 - val_loss: 0.0777 - val_accuracy: 0.9899\n",
            "Epoch 56/100\n",
            "20000/20000 [==============================] - 3s 161us/step - loss: 2.4199e-06 - accuracy: 1.0000 - val_loss: 0.0780 - val_accuracy: 0.9899\n",
            "Epoch 57/100\n",
            "20000/20000 [==============================] - 3s 161us/step - loss: 2.3144e-06 - accuracy: 1.0000 - val_loss: 0.0783 - val_accuracy: 0.9899\n",
            "Epoch 58/100\n",
            "20000/20000 [==============================] - 3s 162us/step - loss: 2.2178e-06 - accuracy: 1.0000 - val_loss: 0.0786 - val_accuracy: 0.9899\n",
            "Epoch 59/100\n",
            "20000/20000 [==============================] - 3s 162us/step - loss: 2.1252e-06 - accuracy: 1.0000 - val_loss: 0.0788 - val_accuracy: 0.9899\n",
            "Epoch 60/100\n",
            "20000/20000 [==============================] - 3s 162us/step - loss: 2.0455e-06 - accuracy: 1.0000 - val_loss: 0.0791 - val_accuracy: 0.9898\n",
            "Epoch 61/100\n",
            "20000/20000 [==============================] - 3s 162us/step - loss: 1.9634e-06 - accuracy: 1.0000 - val_loss: 0.0793 - val_accuracy: 0.9899\n",
            "Epoch 62/100\n",
            "20000/20000 [==============================] - 3s 162us/step - loss: 1.8923e-06 - accuracy: 1.0000 - val_loss: 0.0796 - val_accuracy: 0.9898\n",
            "Epoch 63/100\n",
            "20000/20000 [==============================] - 3s 162us/step - loss: 1.8260e-06 - accuracy: 1.0000 - val_loss: 0.0798 - val_accuracy: 0.9898\n",
            "Epoch 64/100\n",
            "20000/20000 [==============================] - 3s 162us/step - loss: 1.7639e-06 - accuracy: 1.0000 - val_loss: 0.0800 - val_accuracy: 0.9898\n",
            "Epoch 65/100\n",
            "20000/20000 [==============================] - 3s 162us/step - loss: 1.7061e-06 - accuracy: 1.0000 - val_loss: 0.0802 - val_accuracy: 0.9898\n",
            "Epoch 66/100\n",
            "20000/20000 [==============================] - 3s 162us/step - loss: 1.6514e-06 - accuracy: 1.0000 - val_loss: 0.0804 - val_accuracy: 0.9898\n",
            "Epoch 67/100\n",
            "20000/20000 [==============================] - 3s 162us/step - loss: 1.5986e-06 - accuracy: 1.0000 - val_loss: 0.0806 - val_accuracy: 0.9898\n",
            "Epoch 68/100\n",
            "20000/20000 [==============================] - 3s 162us/step - loss: 1.5506e-06 - accuracy: 1.0000 - val_loss: 0.0808 - val_accuracy: 0.9897\n",
            "Epoch 69/100\n",
            "20000/20000 [==============================] - 3s 161us/step - loss: 1.5052e-06 - accuracy: 1.0000 - val_loss: 0.0810 - val_accuracy: 0.9896\n",
            "Epoch 70/100\n",
            "20000/20000 [==============================] - 3s 162us/step - loss: 1.4617e-06 - accuracy: 1.0000 - val_loss: 0.0812 - val_accuracy: 0.9896\n",
            "Epoch 71/100\n",
            "20000/20000 [==============================] - 3s 163us/step - loss: 1.4221e-06 - accuracy: 1.0000 - val_loss: 0.0814 - val_accuracy: 0.9896\n",
            "Epoch 72/100\n",
            "20000/20000 [==============================] - 3s 163us/step - loss: 1.3827e-06 - accuracy: 1.0000 - val_loss: 0.0816 - val_accuracy: 0.9896\n",
            "Epoch 73/100\n",
            "20000/20000 [==============================] - 3s 163us/step - loss: 1.3463e-06 - accuracy: 1.0000 - val_loss: 0.0817 - val_accuracy: 0.9896\n",
            "Epoch 74/100\n",
            "20000/20000 [==============================] - 3s 163us/step - loss: 1.3127e-06 - accuracy: 1.0000 - val_loss: 0.0819 - val_accuracy: 0.9896\n",
            "Epoch 75/100\n",
            "20000/20000 [==============================] - 3s 162us/step - loss: 1.2787e-06 - accuracy: 1.0000 - val_loss: 0.0821 - val_accuracy: 0.9895\n",
            "Epoch 76/100\n",
            "20000/20000 [==============================] - 3s 162us/step - loss: 1.2456e-06 - accuracy: 1.0000 - val_loss: 0.0823 - val_accuracy: 0.9895\n",
            "Epoch 77/100\n",
            "20000/20000 [==============================] - 3s 163us/step - loss: 1.2174e-06 - accuracy: 1.0000 - val_loss: 0.0824 - val_accuracy: 0.9895\n",
            "Epoch 78/100\n",
            "20000/20000 [==============================] - 3s 164us/step - loss: 1.1888e-06 - accuracy: 1.0000 - val_loss: 0.0826 - val_accuracy: 0.9895\n",
            "Epoch 79/100\n",
            "20000/20000 [==============================] - 3s 163us/step - loss: 1.1602e-06 - accuracy: 1.0000 - val_loss: 0.0827 - val_accuracy: 0.9895\n",
            "Epoch 80/100\n",
            "20000/20000 [==============================] - 3s 163us/step - loss: 1.1348e-06 - accuracy: 1.0000 - val_loss: 0.0829 - val_accuracy: 0.9895\n",
            "Epoch 81/100\n",
            "20000/20000 [==============================] - 3s 163us/step - loss: 1.1097e-06 - accuracy: 1.0000 - val_loss: 0.0830 - val_accuracy: 0.9895\n",
            "Epoch 82/100\n",
            "20000/20000 [==============================] - 3s 161us/step - loss: 1.0852e-06 - accuracy: 1.0000 - val_loss: 0.0832 - val_accuracy: 0.9895\n",
            "Epoch 83/100\n",
            "20000/20000 [==============================] - 3s 162us/step - loss: 1.0627e-06 - accuracy: 1.0000 - val_loss: 0.0833 - val_accuracy: 0.9895\n",
            "Epoch 84/100\n",
            "20000/20000 [==============================] - 3s 162us/step - loss: 1.0398e-06 - accuracy: 1.0000 - val_loss: 0.0835 - val_accuracy: 0.9895\n",
            "Epoch 85/100\n",
            "20000/20000 [==============================] - 3s 163us/step - loss: 1.0186e-06 - accuracy: 1.0000 - val_loss: 0.0836 - val_accuracy: 0.9895\n",
            "Epoch 86/100\n",
            "20000/20000 [==============================] - 3s 162us/step - loss: 9.9784e-07 - accuracy: 1.0000 - val_loss: 0.0838 - val_accuracy: 0.9895\n",
            "Epoch 87/100\n",
            "20000/20000 [==============================] - 3s 163us/step - loss: 9.7753e-07 - accuracy: 1.0000 - val_loss: 0.0839 - val_accuracy: 0.9895\n",
            "Epoch 88/100\n",
            "20000/20000 [==============================] - 3s 162us/step - loss: 9.5898e-07 - accuracy: 1.0000 - val_loss: 0.0840 - val_accuracy: 0.9895\n",
            "Epoch 89/100\n",
            "20000/20000 [==============================] - 3s 164us/step - loss: 9.4074e-07 - accuracy: 1.0000 - val_loss: 0.0842 - val_accuracy: 0.9895\n",
            "Epoch 90/100\n",
            "20000/20000 [==============================] - 3s 164us/step - loss: 9.2291e-07 - accuracy: 1.0000 - val_loss: 0.0843 - val_accuracy: 0.9895\n",
            "Epoch 91/100\n",
            "20000/20000 [==============================] - 3s 163us/step - loss: 9.0582e-07 - accuracy: 1.0000 - val_loss: 0.0844 - val_accuracy: 0.9895\n",
            "Epoch 92/100\n",
            "20000/20000 [==============================] - 3s 163us/step - loss: 8.8963e-07 - accuracy: 1.0000 - val_loss: 0.0845 - val_accuracy: 0.9896\n",
            "Epoch 93/100\n",
            "20000/20000 [==============================] - 3s 161us/step - loss: 8.7403e-07 - accuracy: 1.0000 - val_loss: 0.0847 - val_accuracy: 0.9896\n",
            "Epoch 94/100\n",
            "20000/20000 [==============================] - 3s 161us/step - loss: 8.5832e-07 - accuracy: 1.0000 - val_loss: 0.0848 - val_accuracy: 0.9896\n",
            "Epoch 95/100\n",
            "20000/20000 [==============================] - 3s 161us/step - loss: 8.4258e-07 - accuracy: 1.0000 - val_loss: 0.0849 - val_accuracy: 0.9896\n",
            "Epoch 96/100\n",
            "20000/20000 [==============================] - 3s 162us/step - loss: 8.2924e-07 - accuracy: 1.0000 - val_loss: 0.0850 - val_accuracy: 0.9896\n",
            "Epoch 97/100\n",
            "20000/20000 [==============================] - 3s 163us/step - loss: 8.1509e-07 - accuracy: 1.0000 - val_loss: 0.0851 - val_accuracy: 0.9897\n",
            "Epoch 98/100\n",
            "20000/20000 [==============================] - 3s 164us/step - loss: 8.0142e-07 - accuracy: 1.0000 - val_loss: 0.0853 - val_accuracy: 0.9897\n",
            "Epoch 99/100\n",
            "20000/20000 [==============================] - 3s 162us/step - loss: 7.8824e-07 - accuracy: 1.0000 - val_loss: 0.0854 - val_accuracy: 0.9897\n",
            "Epoch 100/100\n",
            "20000/20000 [==============================] - 3s 162us/step - loss: 7.7558e-07 - accuracy: 1.0000 - val_loss: 0.0855 - val_accuracy: 0.9897\n"
          ],
          "name": "stdout"
        },
        {
          "output_type": "execute_result",
          "data": {
            "text/plain": [
              "<keras.callbacks.callbacks.History at 0x7f292254ccf8>"
            ]
          },
          "metadata": {
            "tags": []
          },
          "execution_count": 116
        }
      ]
    },
    {
      "cell_type": "markdown",
      "metadata": {
        "id": "nVfTx67lz1SN",
        "colab_type": "text"
      },
      "source": [
        "4. Imrpimimos el Accuacy"
      ]
    },
    {
      "cell_type": "code",
      "metadata": {
        "id": "Kfj9SX9BzTKC",
        "colab_type": "code",
        "colab": {
          "base_uri": "https://localhost:8080/",
          "height": 51
        },
        "outputId": "97de0b56-cad6-4c5b-9207-050123af9e60"
      },
      "source": [
        "score = modelo.evaluate(X_test, y_test)\n",
        "print(score[0], score[1])"
      ],
      "execution_count": 117,
      "outputs": [
        {
          "output_type": "stream",
          "text": [
            "10000/10000 [==============================] - 1s 126us/step\n",
            "0.08548579572775475 0.9897000193595886\n"
          ],
          "name": "stdout"
        }
      ]
    }
  ]
}